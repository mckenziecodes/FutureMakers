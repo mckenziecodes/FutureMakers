{
  "nbformat": 4,
  "nbformat_minor": 0,
  "metadata": {
    "colab": {
      "name": "Day 11 - NN Layers + MNIST Practice (Fixed).ipynb",
      "provenance": []
    },
    "kernelspec": {
      "name": "python3",
      "display_name": "Python 3"
    },
    "language_info": {
      "name": "python"
    },
    "accelerator": "GPU"
  },
  "cells": [
    {
      "cell_type": "code",
      "metadata": {
        "id": "lLSpwfuATK3u"
      },
      "source": [
        "#Importing the libraries\n",
        "\n",
        "from numpy import mean\n",
        "from numpy import std #standard deviation \n",
        "from matplotlib import pyplot #plot accuracy + loss curves\n",
        "from sklearn.model_selection import KFold\n",
        "from keras.datasets import mnist\n",
        "from tensorflow.keras.utils import to_categorical\n",
        "from keras.models import Sequential\n",
        "from keras.layers import Conv2D\n",
        "from keras.layers import MaxPooling2D\n",
        "from keras.layers import Dense\n",
        "from keras.layers import Flatten\n",
        "from keras.optimizers import SGD "
      ],
      "execution_count": 6,
      "outputs": []
    },
    {
      "cell_type": "code",
      "metadata": {
        "id": "Xdd2cfKNXcID"
      },
      "source": [
        "#Load train and test dataset\n",
        "\n",
        "def load_dataset():\n",
        "  #X = pixel values, Y = labels\n",
        "  (trainX, trainY), (testX, testY) = mnist.load_data()\n",
        "\n",
        "  #reshape the data\n",
        "    #(60,000, 28, 28) -> original shape\n",
        "    #(60,000, 28, 28, 1) -> desired shape\n",
        "  trainX = trainX.reshape((-1, 28, 28, 1)) #-1 collects all 60,000\n",
        "\n",
        "    #(0,1,2,3,4,5,6,7,8,9) -> original labels\n",
        "    \n",
        "  trainY = to_categorical(trainY)\n",
        "  testY = to_categorical(testY)\n",
        "  return trainX, trainY, testX, testY"
      ],
      "execution_count": 7,
      "outputs": []
    },
    {
      "cell_type": "code",
      "metadata": {
        "id": "vJvP_ZSvZDyN"
      },
      "source": [
        "#Standardization (scaling the features/pixels)\n",
        "\n",
        "def prep_pixels(train, test):\n",
        "   #convert orig datasets into float \n",
        "  train_norm = train.astype('float32')\n",
        "  test_norm = test.astype('float32')\n",
        "\n",
        "  train_norm = train_norm / 255.0 #255 is the highest value a pixel can have\n",
        "  test_norm = test_norm / 255.0\n",
        "  return train_norm, test_norm"
      ],
      "execution_count": 8,
      "outputs": []
    },
    {
      "cell_type": "code",
      "metadata": {
        "id": "lXvFv7zQb1fL"
      },
      "source": [
        "#Define the architecture\n",
        "def define_model():\n",
        "  #define the model\n",
        "  model = Sequential()\n",
        "  #32 = num of filters\n",
        "  model.add(Conv2D(32, (3, 3), activation='relu', kernel_initializer='he_uniform', input_shape=(28, 28, 1)))\n",
        "  model.add(MaxPooling2D((2, 2)))\n",
        "  model.add(Flatten())\n",
        "  model.add(Dense(100, activation='relu', kernel_initializer='he_uniform'))\n",
        "  model.add(Dense(10, activation='softmax'))\n",
        "  \n",
        "  #compile the model\n",
        "  opt = SGD(learning_rate=0.01, momentum=0.9)\n",
        "  model.compile(optimizer=opt, loss='categorical_crossentropy', metrics=['accuracy'])\n",
        "  return model"
      ],
      "execution_count": 9,
      "outputs": []
    },
    {
      "cell_type": "code",
      "metadata": {
        "id": "ET9b71YZcUno"
      },
      "source": [
        "#Evaluate the modle using K-Fold CV\n",
        "\n",
        "def evaluate_model(dataX, dataY, n_fold = 5):\n",
        "  scores, histories = list(), list()\n",
        "  # n_folds = num of folds we're using , shuffle = boolean, random_state\n",
        "  #n_folds means that for 10 iterations, each section will be used for training 9 times and testing 1 time\n",
        "  kfold = KFold(n_fold, shuffle = True, random_state = 1)\n",
        "  for train_ix, test_ix in kfold.split(dataX):\n",
        "    model = define_model()\n",
        "    trainX, trainY, testX, testY = dataX[train_ix], dataY[train_ix], dataX[test_ix], dataY[test_ix]\n",
        "    history = model.fit(trainX, trainY, epochs = 10, batch_size = 32, validation_data = (testX, testY), verbose = 0)\n",
        "    _, acc = model.evaluate(testX, testY, verbose = 0)\n",
        "    print('>%.3f' %(acc * 100))\n",
        "    scores.append(acc)\n",
        "    histories.append(history)\n",
        "    return scores, histories"
      ],
      "execution_count": 12,
      "outputs": []
    },
    {
      "cell_type": "code",
      "metadata": {
        "id": "X12qXjDifubo"
      },
      "source": [
        "#Plot the curves\n",
        "\n",
        "def summarize_diagnostics(histories):\n",
        "  for i in range(len(histories)):\n",
        "    pyplot.subplot(2, 1, 1)\n",
        "    pyplot.title ('Cross Entropy Loss')\n",
        "    pyplot.plot(histories[i].history['loss'], color = 'blue', label = 'train')\n",
        "    pyplot.plot(histories[i].history['val_loss'], color = 'orange', label = 'test')\n",
        "    pyplot.subplot(2, 1, 2) #second plot we will show\n",
        "    pyplot.title ('Classification Accuracy')\n",
        "    pyplot.plot(histories[i].history['accuracy'], color = 'blue', label = 'train')\n",
        "    pyplot.plot(histories[i].history['val_accuracy'], color = 'orange', label = 'test')\n",
        "    pyplot.show()\n"
      ],
      "execution_count": 5,
      "outputs": []
    },
    {
      "cell_type": "code",
      "metadata": {
        "id": "FiOJk-iNftZu"
      },
      "source": [
        "#Summarize model performance\n",
        "\n",
        "def summarize_performance(scores):\n",
        "  #print results\n",
        "  print('Accuracy: mean = %0.3f, std = %0.3f, n = %d' %(mean(scores * 100), std(scores) * 100, len(scores)* 100))\n",
        "  pyplot.boxplot(scores)\n",
        "  pyplot.show()"
      ],
      "execution_count": 4,
      "outputs": []
    },
    {
      "cell_type": "code",
      "metadata": {
        "id": "_f_UDgFLg6fO"
      },
      "source": [
        "#Run the test harness for evaluating the model\n",
        "\n",
        "def run_test_harness():\n",
        "  #call previous functions\n",
        "  trainX, trainY, testX, testY = load_dataset()\n",
        "  trainX, testX = prep_pixels(trainX, testX)\n",
        "  scores, histories = evaluate_model(trainX, trainY)\n",
        "  summarize_diagnostics(histories)\n",
        "  summarize_performance(scores)"
      ],
      "execution_count": 3,
      "outputs": []
    },
    {
      "cell_type": "code",
      "metadata": {
        "colab": {
          "base_uri": "https://localhost:8080/",
          "height": 563
        },
        "id": "ebLRR7KMhcc4",
        "outputId": "c4a3ae33-8875-45cb-df08-91ce8847be0a"
      },
      "source": [
        "#Run the test harness function - actually running the model\n",
        "\n",
        "run_test_harness()"
      ],
      "execution_count": 13,
      "outputs": [
        {
          "output_type": "stream",
          "text": [
            ">98.525\n"
          ],
          "name": "stdout"
        },
        {
          "output_type": "display_data",
          "data": {
            "image/png": "[encoded data removed]",
            "text/plain": [
              "<Figure size 432x288 with 2 Axes>"
            ]
          },
          "metadata": {
            "tags": [],
            "needs_background": "light"
          }
        },
        {
          "output_type": "stream",
          "text": [
            "Accuracy: mean = 0.985, std = 0.000, n = 100\n"
          ],
          "name": "stdout"
        },
        {
          "output_type": "display_data",
          "data": {
            "image/png": "[encoded data removed]",
            "text/plain": [
              "<Figure size 432x288 with 1 Axes>"
            ]
          },
          "metadata": {
            "tags": [],
            "needs_background": "light"
          }
        }
      ]
    }
  ]
}