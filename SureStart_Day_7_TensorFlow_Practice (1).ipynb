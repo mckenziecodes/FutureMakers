{
  "nbformat": 4,
  "nbformat_minor": 0,
  "metadata": {
    "colab": {
      "name": "SureStart Day 7 - TensorFlow Practice",
      "provenance": []
    },
    "kernelspec": {
      "name": "python3",
      "display_name": "Python 3"
    },
    "language_info": {
      "name": "python"
    },
    "accelerator": "GPU"
  },
  "cells": [
    {
      "cell_type": "code",
      "metadata": {
        "id": "gpmqAJy-z_mk",
        "colab": {
          "base_uri": "https://localhost:8080/"
        },
        "outputId": "32f0ee0a-4244-4ea3-b4ed-c0c0c4d3c824"
      },
      "source": [
        "import tensorflow as tf\n",
        "print(tf.__version__)"
      ],
      "execution_count": null,
      "outputs": [
        {
          "output_type": "stream",
          "text": [
            "2.5.0\n"
          ],
          "name": "stdout"
        }
      ]
    },
    {
      "cell_type": "code",
      "metadata": {
        "colab": {
          "base_uri": "https://localhost:8080/",
          "height": 35
        },
        "id": "9jvVeDyHzObu",
        "outputId": "f56406e7-20eb-4ceb-8a07-c63bc86183fe"
      },
      "source": [
        "# import tensorflow\n",
        "import tensorflow as tf\n",
        "\n",
        "#initialize 2 constants\n",
        "x1 = tf.constant([1,2,3,4])\n",
        "x2 = tf.constant([5,6,7,8])\n",
        "\n",
        "#multiply\n",
        "result = tf.multiply(x1,x2)\n",
        "\n",
        "#Initialize the Session\n",
        "\"\"\"with tf.compat.v1.Session() as sess:\n",
        "  output = (sess.run(result))\n",
        "  print (output) \"\"\""
      ],
      "execution_count": null,
      "outputs": [
        {
          "output_type": "execute_result",
          "data": {
            "application/vnd.google.colaboratory.intrinsic+json": {
              "type": "string"
            },
            "text/plain": [
              "'with tf.compat.v1.Session() as sess:\\n  output = (sess.run(result))\\n  print (output) '"
            ]
          },
          "metadata": {
            "tags": []
          },
          "execution_count": 2
        }
      ]
    },
    {
      "cell_type": "code",
      "metadata": {
        "id": "VW2-H7Ym6XXP"
      },
      "source": [
        "import os\n",
        "from skimage.io import imread\n",
        "def load_data(data_directory):\n",
        "  directories = [d for d in os.listdir(data_directory)\n",
        "    if os.path.isdir(os.path.join(data_directory, d))]\n",
        "  labels = []\n",
        "  images = []\n",
        "  for d in directories: \n",
        "    label_directory = os.path.join(data_directory, d)\n",
        "    file_names = [os.path.join(label_directory, f)\n",
        "    for f in os.listdir(label_directory)\n",
        "    if f.endswith(\".ppm\")]\n",
        "\n",
        "    for f in file_names:\n",
        "      images.append(imread(f))\n",
        "      labels.append(int(d))\n",
        "  return images, labels\n",
        "  \n",
        "ROOT_PATH = \"/content/drive/MyDrive/SureStart\"\n",
        "train_data_directory = os.path.join(ROOT_PATH, \"BelgiumTSC_Training\")\n",
        "test_data_directory = os.path.join(ROOT_PATH, \"BelgiumTSC_Testing\")\n",
        "\n",
        "images, labels = load_data(train_data_directory)"
      ],
      "execution_count": null,
      "outputs": []
    }
  ]
}