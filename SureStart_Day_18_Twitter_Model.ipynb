{
  "nbformat": 4,
  "nbformat_minor": 0,
  "metadata": {
    "colab": {
      "name": "SureStart Day 18 - Twitter Model.ipynb",
      "provenance": []
    },
    "kernelspec": {
      "name": "python3",
      "display_name": "Python 3"
    },
    "language_info": {
      "name": "python"
    },
    "accelerator": "GPU"
  },
  "cells": [
    {
      "cell_type": "code",
      "metadata": {
        "id": "5Bq3PwCB6fEr"
      },
      "source": [
        "#importing the necessary packages and configuring some parameters\n",
        "\n",
        "#basic packages\n",
        "import pandas as pd\n",
        "import numpy as np\n",
        "import re\n",
        "import collections\n",
        "import matplotlib.pyplot as plt\n",
        "from pathlib import Path\n",
        "\n",
        "#Packages for data prep\n",
        "from sklearn.model_selection import train_test_split\n",
        "from nltk.corpus import stopwords\n",
        "from keras.preprocessing.text import Tokenizer\n",
        "from keras.utils.np_utils import to_categorical\n",
        "from sklearn.preprocessing import LabelEncoder\n",
        "\n",
        "#Packages for modeling\n",
        "from keras import models\n",
        "from keras import layers\n",
        "from keras import regularizers"
      ],
      "execution_count": 36,
      "outputs": []
    },
    {
      "cell_type": "code",
      "metadata": {
        "id": "TnlgM0sM7d4A"
      },
      "source": [
        "NB_WORDS = 1000 #Parameter indicating the num of words we'll put in the dictionary\n",
        "NB_START_EPOCHS = 20 #Num of epochs we usually start to train with\n",
        "BATCH_SIZE = 512 #Size of batches used in the mini-batch gradient descent\n",
        "MAX_LEN = 20 #Max num of words in a sequence"
      ],
      "execution_count": 37,
      "outputs": []
    },
    {
      "cell_type": "code",
      "metadata": {
        "colab": {
          "base_uri": "https://localhost:8080/",
          "height": 915
        },
        "id": "-jzNFVJN8UD8",
        "outputId": "368d7d34-f27a-4d64-c3fc-db8d68016af7"
      },
      "source": [
        "tweets = pd.read_csv('/content/drive/MyDrive/SureStart/Tweets.csv')\n",
        "tweets"
      ],
      "execution_count": 38,
      "outputs": [
        {
          "output_type": "execute_result",
          "data": {
            "text/html": [
              "<div>\n",
              "<style scoped>\n",
              "    .dataframe tbody tr th:only-of-type {\n",
              "        vertical-align: middle;\n",
              "    }\n",
              "\n",
              "    .dataframe tbody tr th {\n",
              "        vertical-align: top;\n",
              "    }\n",
              "\n",
              "    .dataframe thead th {\n",
              "        text-align: right;\n",
              "    }\n",
              "</style>\n",
              "<table border=\"1\" class=\"dataframe\">\n",
              "  <thead>\n",
              "    <tr style=\"text-align: right;\">\n",
              "      <th></th>\n",
              "      <th>tweet_id</th>\n",
              "      <th>airline_sentiment</th>\n",
              "      <th>airline_sentiment_confidence</th>\n",
              "      <th>negativereason</th>\n",
              "      <th>negativereason_confidence</th>\n",
              "      <th>airline</th>\n",
              "      <th>airline_sentiment_gold</th>\n",
              "      <th>name</th>\n",
              "      <th>negativereason_gold</th>\n",
              "      <th>retweet_count</th>\n",
              "      <th>text</th>\n",
              "      <th>tweet_coord</th>\n",
              "      <th>tweet_created</th>\n",
              "      <th>tweet_location</th>\n",
              "      <th>user_timezone</th>\n",
              "    </tr>\n",
              "  </thead>\n",
              "  <tbody>\n",
              "    <tr>\n",
              "      <th>0</th>\n",
              "      <td>570306133677760513</td>\n",
              "      <td>neutral</td>\n",
              "      <td>1.0000</td>\n",
              "      <td>NaN</td>\n",
              "      <td>NaN</td>\n",
              "      <td>Virgin America</td>\n",
              "      <td>NaN</td>\n",
              "      <td>cairdin</td>\n",
              "      <td>NaN</td>\n",
              "      <td>0</td>\n",
              "      <td>@VirginAmerica What @dhepburn said.</td>\n",
              "      <td>NaN</td>\n",
              "      <td>2015-02-24 11:35:52 -0800</td>\n",
              "      <td>NaN</td>\n",
              "      <td>Eastern Time (US &amp; Canada)</td>\n",
              "    </tr>\n",
              "    <tr>\n",
              "      <th>1</th>\n",
              "      <td>570301130888122368</td>\n",
              "      <td>positive</td>\n",
              "      <td>0.3486</td>\n",
              "      <td>NaN</td>\n",
              "      <td>0.0000</td>\n",
              "      <td>Virgin America</td>\n",
              "      <td>NaN</td>\n",
              "      <td>jnardino</td>\n",
              "      <td>NaN</td>\n",
              "      <td>0</td>\n",
              "      <td>@VirginAmerica plus you've added commercials t...</td>\n",
              "      <td>NaN</td>\n",
              "      <td>2015-02-24 11:15:59 -0800</td>\n",
              "      <td>NaN</td>\n",
              "      <td>Pacific Time (US &amp; Canada)</td>\n",
              "    </tr>\n",
              "    <tr>\n",
              "      <th>2</th>\n",
              "      <td>570301083672813571</td>\n",
              "      <td>neutral</td>\n",
              "      <td>0.6837</td>\n",
              "      <td>NaN</td>\n",
              "      <td>NaN</td>\n",
              "      <td>Virgin America</td>\n",
              "      <td>NaN</td>\n",
              "      <td>yvonnalynn</td>\n",
              "      <td>NaN</td>\n",
              "      <td>0</td>\n",
              "      <td>@VirginAmerica I didn't today... Must mean I n...</td>\n",
              "      <td>NaN</td>\n",
              "      <td>2015-02-24 11:15:48 -0800</td>\n",
              "      <td>Lets Play</td>\n",
              "      <td>Central Time (US &amp; Canada)</td>\n",
              "    </tr>\n",
              "    <tr>\n",
              "      <th>3</th>\n",
              "      <td>570301031407624196</td>\n",
              "      <td>negative</td>\n",
              "      <td>1.0000</td>\n",
              "      <td>Bad Flight</td>\n",
              "      <td>0.7033</td>\n",
              "      <td>Virgin America</td>\n",
              "      <td>NaN</td>\n",
              "      <td>jnardino</td>\n",
              "      <td>NaN</td>\n",
              "      <td>0</td>\n",
              "      <td>@VirginAmerica it's really aggressive to blast...</td>\n",
              "      <td>NaN</td>\n",
              "      <td>2015-02-24 11:15:36 -0800</td>\n",
              "      <td>NaN</td>\n",
              "      <td>Pacific Time (US &amp; Canada)</td>\n",
              "    </tr>\n",
              "    <tr>\n",
              "      <th>4</th>\n",
              "      <td>570300817074462722</td>\n",
              "      <td>negative</td>\n",
              "      <td>1.0000</td>\n",
              "      <td>Can't Tell</td>\n",
              "      <td>1.0000</td>\n",
              "      <td>Virgin America</td>\n",
              "      <td>NaN</td>\n",
              "      <td>jnardino</td>\n",
              "      <td>NaN</td>\n",
              "      <td>0</td>\n",
              "      <td>@VirginAmerica and it's a really big bad thing...</td>\n",
              "      <td>NaN</td>\n",
              "      <td>2015-02-24 11:14:45 -0800</td>\n",
              "      <td>NaN</td>\n",
              "      <td>Pacific Time (US &amp; Canada)</td>\n",
              "    </tr>\n",
              "    <tr>\n",
              "      <th>...</th>\n",
              "      <td>...</td>\n",
              "      <td>...</td>\n",
              "      <td>...</td>\n",
              "      <td>...</td>\n",
              "      <td>...</td>\n",
              "      <td>...</td>\n",
              "      <td>...</td>\n",
              "      <td>...</td>\n",
              "      <td>...</td>\n",
              "      <td>...</td>\n",
              "      <td>...</td>\n",
              "      <td>...</td>\n",
              "      <td>...</td>\n",
              "      <td>...</td>\n",
              "      <td>...</td>\n",
              "    </tr>\n",
              "    <tr>\n",
              "      <th>14635</th>\n",
              "      <td>569587686496825344</td>\n",
              "      <td>positive</td>\n",
              "      <td>0.3487</td>\n",
              "      <td>NaN</td>\n",
              "      <td>0.0000</td>\n",
              "      <td>American</td>\n",
              "      <td>NaN</td>\n",
              "      <td>KristenReenders</td>\n",
              "      <td>NaN</td>\n",
              "      <td>0</td>\n",
              "      <td>@AmericanAir thank you we got on a different f...</td>\n",
              "      <td>NaN</td>\n",
              "      <td>2015-02-22 12:01:01 -0800</td>\n",
              "      <td>NaN</td>\n",
              "      <td>NaN</td>\n",
              "    </tr>\n",
              "    <tr>\n",
              "      <th>14636</th>\n",
              "      <td>569587371693355008</td>\n",
              "      <td>negative</td>\n",
              "      <td>1.0000</td>\n",
              "      <td>Customer Service Issue</td>\n",
              "      <td>1.0000</td>\n",
              "      <td>American</td>\n",
              "      <td>NaN</td>\n",
              "      <td>itsropes</td>\n",
              "      <td>NaN</td>\n",
              "      <td>0</td>\n",
              "      <td>@AmericanAir leaving over 20 minutes Late Flig...</td>\n",
              "      <td>NaN</td>\n",
              "      <td>2015-02-22 11:59:46 -0800</td>\n",
              "      <td>Texas</td>\n",
              "      <td>NaN</td>\n",
              "    </tr>\n",
              "    <tr>\n",
              "      <th>14637</th>\n",
              "      <td>569587242672398336</td>\n",
              "      <td>neutral</td>\n",
              "      <td>1.0000</td>\n",
              "      <td>NaN</td>\n",
              "      <td>NaN</td>\n",
              "      <td>American</td>\n",
              "      <td>NaN</td>\n",
              "      <td>sanyabun</td>\n",
              "      <td>NaN</td>\n",
              "      <td>0</td>\n",
              "      <td>@AmericanAir Please bring American Airlines to...</td>\n",
              "      <td>NaN</td>\n",
              "      <td>2015-02-22 11:59:15 -0800</td>\n",
              "      <td>Nigeria,lagos</td>\n",
              "      <td>NaN</td>\n",
              "    </tr>\n",
              "    <tr>\n",
              "      <th>14638</th>\n",
              "      <td>569587188687634433</td>\n",
              "      <td>negative</td>\n",
              "      <td>1.0000</td>\n",
              "      <td>Customer Service Issue</td>\n",
              "      <td>0.6659</td>\n",
              "      <td>American</td>\n",
              "      <td>NaN</td>\n",
              "      <td>SraJackson</td>\n",
              "      <td>NaN</td>\n",
              "      <td>0</td>\n",
              "      <td>@AmericanAir you have my money, you change my ...</td>\n",
              "      <td>NaN</td>\n",
              "      <td>2015-02-22 11:59:02 -0800</td>\n",
              "      <td>New Jersey</td>\n",
              "      <td>Eastern Time (US &amp; Canada)</td>\n",
              "    </tr>\n",
              "    <tr>\n",
              "      <th>14639</th>\n",
              "      <td>569587140490866689</td>\n",
              "      <td>neutral</td>\n",
              "      <td>0.6771</td>\n",
              "      <td>NaN</td>\n",
              "      <td>0.0000</td>\n",
              "      <td>American</td>\n",
              "      <td>NaN</td>\n",
              "      <td>daviddtwu</td>\n",
              "      <td>NaN</td>\n",
              "      <td>0</td>\n",
              "      <td>@AmericanAir we have 8 ppl so we need 2 know h...</td>\n",
              "      <td>NaN</td>\n",
              "      <td>2015-02-22 11:58:51 -0800</td>\n",
              "      <td>dallas, TX</td>\n",
              "      <td>NaN</td>\n",
              "    </tr>\n",
              "  </tbody>\n",
              "</table>\n",
              "<p>14640 rows × 15 columns</p>\n",
              "</div>"
            ],
            "text/plain": [
              "                 tweet_id  ...               user_timezone\n",
              "0      570306133677760513  ...  Eastern Time (US & Canada)\n",
              "1      570301130888122368  ...  Pacific Time (US & Canada)\n",
              "2      570301083672813571  ...  Central Time (US & Canada)\n",
              "3      570301031407624196  ...  Pacific Time (US & Canada)\n",
              "4      570300817074462722  ...  Pacific Time (US & Canada)\n",
              "...                   ...  ...                         ...\n",
              "14635  569587686496825344  ...                         NaN\n",
              "14636  569587371693355008  ...                         NaN\n",
              "14637  569587242672398336  ...                         NaN\n",
              "14638  569587188687634433  ...  Eastern Time (US & Canada)\n",
              "14639  569587140490866689  ...                         NaN\n",
              "\n",
              "[14640 rows x 15 columns]"
            ]
          },
          "metadata": {
            "tags": []
          },
          "execution_count": 38
        }
      ]
    },
    {
      "cell_type": "markdown",
      "metadata": {
        "id": "D97tJ4xAGJ6q"
      },
      "source": [
        "The below snippets of code are \"helper functions\""
      ]
    },
    {
      "cell_type": "code",
      "metadata": {
        "id": "EdTdIK5J-REO"
      },
      "source": [
        "def deep_model(model, xtrain, ytrain, xvalid, yvalid):\n",
        "  \"\"\"Function to train a multi-class model. The num of epochs and batch_size are set by the constants at the top of the notebook\n",
        "  Parameters:\n",
        "      model : model w/the chosen atchitecture\n",
        "      xtrain : training features\n",
        "      ytrain : training target\n",
        "      xvalid : validation features\n",
        "      yvalid : validation target \n",
        "  Output: \n",
        "      model training history\"\"\"\n",
        "\n",
        "  model.compile(optimizer = 'rmsprop'\n",
        "                    , loss = 'categorical_crossentropy'\n",
        "                    , metrics = ['accuracy'])\n",
        "  history = model.fit(xtrain\n",
        "                          , ytrain\n",
        "                          , epochs = NB_START_EPOCHS\n",
        "                          , batch_size = BATCH_SIZE\n",
        "                          , validation_data = (xvalid, yvalid)\n",
        "                          , verbose = 0)\n",
        "  return history \n"
      ],
      "execution_count": 62,
      "outputs": []
    },
    {
      "cell_type": "code",
      "metadata": {
        "id": "OdgvCAqc_q7z"
      },
      "source": [
        "def eval_metric(model, history, metric_name):\n",
        "  \"\"\"Function to evaluate a trained model on a chosen metric. Training and validation metric are plotted in a line chart for each epoch.\n",
        "  Parameters: \n",
        "    history : model training accuracy\n",
        "    metric_name : loss or accuracy\n",
        "  Output: \n",
        "    line chart with epochs of x-axis and metric on y-axis\"\"\"\n",
        "  metric = history.history[metric_name]\n",
        "  val_metric = history.history['val_' + metric_name]\n",
        "\n",
        "  e = range(1, NB_START_EPOCHS + 1)\n",
        "\n",
        "  plt.plot(e, metric, 'bo', label = 'Train ' + metric_name)\n",
        "  plt.plot(e, val_metric, 'b', label = 'Validation' + metric_name)\n",
        "  plt.xlabel('Epoch number')\n",
        "  plt.ylabel(metric_name)\n",
        "  plt.title('Comparing training and validation ' + metric_name + ' for ' + model.name)\n",
        "  plt.legend()\n",
        "  plt.show()"
      ],
      "execution_count": 40,
      "outputs": []
    },
    {
      "cell_type": "code",
      "metadata": {
        "id": "HBEvkL4uBDpT"
      },
      "source": [
        "def test_model(model, xtrain, ytrain, xtest, ytest, epoch_stop):\n",
        "  \"\"\"Function to test the model on new data after training it on the full training data w/the optimal num of epochs.\n",
        "  Parameters:\n",
        "        model : training model\n",
        "        xtrain : training features\n",
        "        ytrain : training target\n",
        "        xtest : test features\n",
        "        ytest : test target\n",
        "        epochs : optimal num of epochs\n",
        "  Output: \n",
        "    test accuracy and test loss\n",
        "  \"\"\"\n",
        "  model.fit(xtrain\n",
        "            , ytrain\n",
        "            , epochs = epoch_stop\n",
        "            , batch_size = BATCH_SIZE\n",
        "            , verbose = 0)\n",
        "  results = model.evaluate(xtest, ytest)\n",
        "  print()\n",
        "  print('Test accuracy: {0:.2f}%'.format(results[1] * 100))\n",
        "  print (results)"
      ],
      "execution_count": 69,
      "outputs": []
    },
    {
      "cell_type": "code",
      "metadata": {
        "id": "IDpK66tzCs7A"
      },
      "source": [
        "def remove_stopwords(input_text):\n",
        "  \"\"\"Function to remove English stopwords from a Panda Series.\n",
        "  Parameters: \n",
        "        input_text : text to clean\n",
        "  Output:\n",
        "        cleaned Pandas Series\"\"\"\n",
        "  stopwords_list = stopwords.words('english')\n",
        "  #Some words which might indicate a certain sentiment are kept via a whitelist\n",
        "  whitelist = [\"n't\", \"not\", \"no\"]\n",
        "  words = input_text.split()\n",
        "  clean_words = [word for word in words if (word not in stopwords_list or word in whitelist) and len(word) > 1]\n",
        "  return\" \".join(clean_words)"
      ],
      "execution_count": 42,
      "outputs": []
    },
    {
      "cell_type": "code",
      "metadata": {
        "id": "VDGsVUNMELEx"
      },
      "source": [
        "def remove_mentions(input_text):\n",
        "    '''\n",
        "    Function to remove mentions, preceded by @, in a Pandas Series\n",
        "    \n",
        "    Parameters:\n",
        "        input_text : text to clean\n",
        "    Output:\n",
        "        cleaned Pandas Series \n",
        "    '''\n",
        "    return re.sub(r'@\\w+', '', input_text)"
      ],
      "execution_count": 43,
      "outputs": []
    },
    {
      "cell_type": "code",
      "metadata": {
        "id": "Dp3czJjFExkH"
      },
      "source": [
        "def compare_models_by_metric(model_1, model_2, model_hist_1, model_hist_2, metric):\n",
        "    '''\n",
        "    Function to compare a metric between two models \n",
        "    \n",
        "    Parameters:\n",
        "        model_hist_1 : training history of model 1\n",
        "        model_hist_2 : training history of model 2\n",
        "        metrix : metric to compare, loss, acc, val_loss or val_acc\n",
        "        \n",
        "    Output:\n",
        "        plot of metrics of both models\n",
        "    '''\n",
        "    metric_model_1 = model_hist_1.history[metric]\n",
        "    metric_model_2 = model_hist_2.history[metric]\n",
        "    e = range(1, NB_START_EPOCHS + 1)\n",
        "    \n",
        "    metrics_dict = {\n",
        "        'acc' : 'Training Accuracy',\n",
        "        'loss' : 'Training Loss',\n",
        "        'val_acc' : 'Validation accuracy',\n",
        "        'val_loss' : 'Validation loss'\n",
        "    }\n",
        "\n",
        "    metric_label = metrics_dict[metric]\n",
        "    plt.plot(e, metric_model_1, 'bo', label=model_1.name)\n",
        "    plt.plot(e, metric_model_2, 'b', label=model_2.name)\n",
        "    plt.xlabel('Epoch number')\n",
        "    plt.ylabel(metric_label)\n",
        "    plt.title('Comparing ' + metric_label + ' between models')\n",
        "    plt.legend()\n",
        "    plt.show()"
      ],
      "execution_count": 44,
      "outputs": []
    },
    {
      "cell_type": "code",
      "metadata": {
        "id": "Lg3B5YN8FGoC"
      },
      "source": [
        "def optimal_epoch(model_hist):\n",
        "    '''\n",
        "    Function to return the epoch number where the validation loss is\n",
        "    at its minimum\n",
        "    \n",
        "    Parameters:\n",
        "        model_hist : training history of model\n",
        "    Output:\n",
        "        epoch number with minimum validation loss\n",
        "    '''\n",
        "    min_epoch = np.argmin(model_hist.history['val_loss']) + 1\n",
        "    print(\"Minimum validation loss reached in epoch {}\".format(min_epoch))\n",
        "    return min_epoch"
      ],
      "execution_count": 45,
      "outputs": []
    },
    {
      "cell_type": "code",
      "metadata": {
        "colab": {
          "base_uri": "https://localhost:8080/"
        },
        "id": "CnbFbc9aFNnw",
        "outputId": "4cea39cd-88cc-4e36-9f18-e15efa9011e2"
      },
      "source": [
        "import nltk\n",
        "nltk.download('stopwords')\n",
        "\n",
        "tweets = pd.read_csv('/content/drive/MyDrive/SureStart/Tweets.csv')\n",
        "tweets = tweets.reindex(np.random.permutation(tweets.index))  \n",
        "tweets = tweets[['text', 'airline_sentiment']]\n",
        "tweets.text = tweets.text.apply(remove_stopwords).apply(remove_mentions)"
      ],
      "execution_count": 46,
      "outputs": [
        {
          "output_type": "stream",
          "text": [
            "[nltk_data] Downloading package stopwords to /root/nltk_data...\n",
            "[nltk_data]   Package stopwords is already up-to-date!\n"
          ],
          "name": "stdout"
        }
      ]
    },
    {
      "cell_type": "markdown",
      "metadata": {
        "id": "RL_2bDGhGPZl"
      },
      "source": [
        "The evaluation of the model performance needs to be done on a separate test set. As such, we can estimate how well the model generalizes. This is done with the train_test_split method of scikit-learn."
      ]
    },
    {
      "cell_type": "code",
      "metadata": {
        "id": "1-hYc1UUGQKq"
      },
      "source": [
        "xtrain, xtest, ytrain, ytest = train_test_split(tweets.text, tweets.airline_sentiment, test_size=0.1, random_state=37)\n"
      ],
      "execution_count": 47,
      "outputs": []
    },
    {
      "cell_type": "markdown",
      "metadata": {
        "id": "Jy3pfXThGZJr"
      },
      "source": [
        "To use the text as input for a model, we first need to convert the words into tokens, which simply means converting the words to integers that refer to an index in a dictionary. Here we will only keep the most frequent words in the training set.\n",
        "We clean up the text by applying filters and putting the words to lowercase. Words are separated by spaces."
      ]
    },
    {
      "cell_type": "code",
      "metadata": {
        "id": "0QljozlSGZ_G"
      },
      "source": [
        "tk = Tokenizer(num_words = NB_WORDS,\n",
        "               filters='!\"#$%&()*+,-./:;<=>?@[\\\\]^_`{\"}~\\t\\n',\n",
        "               lower=True,\n",
        "               char_level=False,\n",
        "               split=' ')\n",
        "tk.fit_on_texts(xtrain)"
      ],
      "execution_count": 48,
      "outputs": []
    },
    {
      "cell_type": "markdown",
      "metadata": {
        "id": "jPBC-ZsXGxef"
      },
      "source": [
        "After having created the dictionary we can convert the text of a tweet to a vector with NB_WORDS values. With mode=binary, it contains an indicator whether the word appeared in the tweet or not. This is done with the texts_to_matrix method of the Tokenizer.\n"
      ]
    },
    {
      "cell_type": "code",
      "metadata": {
        "id": "B7K6ij-eGchL"
      },
      "source": [
        "xtrain_oh = tk.texts_to_matrix(xtrain, mode='binary')\n",
        "xtest_oh = tk.texts_to_matrix(xtest, mode='binary')"
      ],
      "execution_count": 49,
      "outputs": []
    },
    {
      "cell_type": "markdown",
      "metadata": {
        "id": "WyhdwdkjHBAB"
      },
      "source": [
        "We need to convert the target classes to numbers as well, which in turn are one-hot-encoded with the to_categorical method in Keras"
      ]
    },
    {
      "cell_type": "code",
      "metadata": {
        "id": "ZknKsRVuHCxn"
      },
      "source": [
        "le = LabelEncoder()\n",
        "ytrain_le = le.fit_transform(ytrain)\n",
        "ytest_le = le.transform(ytest)\n",
        "ytrain_oh = to_categorical(ytrain_le)\n",
        "ytest_oh = to_categorical(ytest_le)"
      ],
      "execution_count": 50,
      "outputs": []
    },
    {
      "cell_type": "markdown",
      "metadata": {
        "id": "wSnkHngVHhy2"
      },
      "source": [
        "Now that our data is ready, we split off a validation set. This validation set will be used to evaluate the model performance when we tune the parameters of the model."
      ]
    },
    {
      "cell_type": "code",
      "metadata": {
        "id": "Tf7FnE_gHjtn"
      },
      "source": [
        "xtrain_rest, xvalid, ytrain_rest, yvalid = train_test_split(xtrain_oh, ytrain_oh, test_size=0.1, random_state=37)"
      ],
      "execution_count": 51,
      "outputs": []
    },
    {
      "cell_type": "markdown",
      "metadata": {
        "id": "xiVWdux5Hubv"
      },
      "source": [
        "\n",
        "We start with a model that overfits. It has 2 densely connected layers of 64 elements. The input_shape for the first layer is equal to the number of words we kept in the dictionary and for which we created one-hot-encoded features.\n",
        "\n",
        "\n",
        "\n",
        "As we need to predict 3 different sentiment classes, the last layer has 3 elements. The softmax activation function makes sure the three probabilities sum up to 1.\n",
        "\n",
        "\n",
        "\n",
        "The number of parameters to train is computed as (nb inputs x nb elements in hidden layer) + nb bias terms. The number of inputs for the first layer equals the number of words in our corpus. The subsequent layers have the number of outputs of the previous layer as inputs. So the number of parameters per layer are:\n",
        "\n",
        "\n",
        "First layer : (10000 x 64) + 64 = 640064\n",
        "\n",
        "\n",
        "Second layer : (64 x 64) + 64 = 4160\n",
        "\n",
        "\n",
        "Last layer : (64 x 3) + 3 = 195\n"
      ]
    },
    {
      "cell_type": "code",
      "metadata": {
        "id": "obQAVnsdH5Hc"
      },
      "source": [
        "base_model = models.Sequential()\n",
        "base_model.add(layers.Dense(64, activation='relu', input_shape=(NB_WORDS,)))\n",
        "base_model.add(layers.Dense(64, activation='relu'))\n",
        "base_model.add(layers.Dense(3, activation='softmax'))\n",
        "base_model.names = 'Baseline model'"
      ],
      "execution_count": 52,
      "outputs": []
    },
    {
      "cell_type": "markdown",
      "metadata": {
        "id": "88e5Wu6lH-zr"
      },
      "source": [
        "Because this project is a multi-class, single-label prediction, we use categorical_crossentropy as the loss function and softmax as the final activation function. We fit the model on the train data and validate on the validation set. We run for a predetermined number of epochs and will see when the model starts to overfit.\n"
      ]
    },
    {
      "cell_type": "code",
      "metadata": {
        "colab": {
          "base_uri": "https://localhost:8080/",
          "height": 312
        },
        "id": "DJfzl09AIAWJ",
        "outputId": "0b248750-250e-4812-fb43-3b1129ed0942"
      },
      "source": [
        "base_history = deep_model(base_model, xtrain_rest, ytrain_rest, xvalid, yvalid)\n",
        "base_min = optimal_epoch(base_history)\n",
        "eval_metric(base_model, base_history, 'loss')"
      ],
      "execution_count": 53,
      "outputs": [
        {
          "output_type": "stream",
          "text": [
            "Minimum validation loss reached in epoch 5\n"
          ],
          "name": "stdout"
        },
        {
          "output_type": "display_data",
          "data": {
            "image/png": "[encoded data removed]",
            "text/plain": [
              "<Figure size 432x288 with 1 Axes>"
            ]
          },
          "metadata": {
            "tags": [],
            "needs_background": "light"
          }
        }
      ]
    },
    {
      "cell_type": "markdown",
      "metadata": {
        "id": "BZ1irM5tJMTg"
      },
      "source": [
        "Our first model has a large number of trainable parameters. The higher this number, the easier the model can memorize the target class for each training sample. Obviously, this is not ideal for generalizing on new data.\n",
        "\n",
        "\n",
        "By lowering the capacity of the network, you force it to learn the patterns that matter or that minimize the loss. On the other hand, reducing the network’s capacity too much will lead to underfitting. The model will not be able to learn the relevant patterns in the train data.\n",
        "\n",
        "\n",
        "We reduce the network’s capacity by removing one hidden layer and lowering the number of elements in the remaining layer to 16.\n"
      ]
    },
    {
      "cell_type": "code",
      "metadata": {
        "colab": {
          "base_uri": "https://localhost:8080/",
          "height": 312
        },
        "id": "zFFswH5MJWQe",
        "outputId": "0dca24b8-2021-413e-a22c-a11c538e778f"
      },
      "source": [
        "reduced_model = models.Sequential()\n",
        "reduced_model.add(layers.Dense(16, activation='relu', input_shape=(NB_WORDS,)))\n",
        "reduced_model.add(layers.Dense(3, activation='softmax'))\n",
        "reduced_model.names = 'Reduced model'\n",
        "reduced_history = deep_model(reduced_model, xtrain_rest, ytrain_rest, xvalid, yvalid)\n",
        "reduced_min = optimal_epoch(reduced_history)\n",
        "eval_metric(reduced_model, reduced_history, 'loss')"
      ],
      "execution_count": 54,
      "outputs": [
        {
          "output_type": "stream",
          "text": [
            "Minimum validation loss reached in epoch 17\n"
          ],
          "name": "stdout"
        },
        {
          "output_type": "display_data",
          "data": {
            "image/png": "[encoded data removed]",
            "text/plain": [
              "<Figure size 432x288 with 1 Axes>"
            ]
          },
          "metadata": {
            "tags": [],
            "needs_background": "light"
          }
        }
      ]
    },
    {
      "cell_type": "markdown",
      "metadata": {
        "id": "RyJ86JE0JmgV"
      },
      "source": [
        "We can see that it takes more epochs before the reduced model starts overfitting. The validation loss also goes up slower than our first model.\n"
      ]
    },
    {
      "cell_type": "code",
      "metadata": {
        "colab": {
          "base_uri": "https://localhost:8080/",
          "height": 295
        },
        "id": "GkoUZMIoJoPA",
        "outputId": "484fc5c3-2669-46a9-cbf2-93260c42b72d"
      },
      "source": [
        "compare_models_by_metric(base_model, reduced_model, base_history, reduced_history, 'val_loss')\n"
      ],
      "execution_count": 55,
      "outputs": [
        {
          "output_type": "display_data",
          "data": {
            "image/png": "[encoded data removed]",
            "text/plain": [
              "<Figure size 432x288 with 1 Axes>"
            ]
          },
          "metadata": {
            "tags": [],
            "needs_background": "light"
          }
        }
      ]
    },
    {
      "cell_type": "markdown",
      "metadata": {
        "id": "7QmJY1Q2JsJy"
      },
      "source": [
        "When we compare the validation loss of the baseline model, it is clear that the reduced model starts overfitting at a later epoch. The validation loss stays lower much longer than the baseline model.\n"
      ]
    },
    {
      "cell_type": "markdown",
      "metadata": {
        "id": "VJ64_bykJwot"
      },
      "source": [
        "To address overfitting, we can apply weight regularization to the model. This will add a cost to the loss function of the network for large weights (or parameter values). As a result, you get a simpler model that will be forced to learn only the relevant patterns in the train data.\n",
        "\n",
        "\n",
        "There are L1 regularization and L2 regularization.\n",
        "\n",
        "\n",
        "L1 regularization will add a cost with regards to the absolute value of the parameters. It will result in some of the weights to be equal to zero.\n",
        "\n",
        "\n",
        "L2 regularization will add a cost with regards to the squared value of the parameters. This results in smaller weights.\n",
        "\n",
        "\n",
        "Let’s try with L2 regularization."
      ]
    },
    {
      "cell_type": "code",
      "metadata": {
        "colab": {
          "base_uri": "https://localhost:8080/"
        },
        "id": "qpcXN9foJ0Zs",
        "outputId": "c30c2242-4756-47c6-d162-5b4f51a6895c"
      },
      "source": [
        "reg_model = models.Sequential()\n",
        "reg_model.add(layers.Dense(64, kernel_regularizer=regularizers.l2(0.001), activation='relu', input_shape=(NB_WORDS,)))\n",
        "reg_model.add(layers.Dense(64, kernel_regularizer=regularizers.l2(0.001), activation='relu'))\n",
        "reg_model.add(layers.Dense(3, activation='softmax'))\n",
        "reg_model.names = 'L2 Regularization model'\n",
        "reg_history = deep_model(reg_model, xtrain_rest, ytrain_rest, xvalid, yvalid)\n",
        "reg_min = optimal_epoch(reg_history)"
      ],
      "execution_count": 56,
      "outputs": [
        {
          "output_type": "stream",
          "text": [
            "Minimum validation loss reached in epoch 9\n"
          ],
          "name": "stdout"
        }
      ]
    },
    {
      "cell_type": "markdown",
      "metadata": {
        "id": "3pXOAIh0KBXC"
      },
      "source": [
        "For the regularized model we notice that it starts overfitting in the same epoch as the baseline model. However, the loss increases much slower afterward.\n"
      ]
    },
    {
      "cell_type": "code",
      "metadata": {
        "colab": {
          "base_uri": "https://localhost:8080/",
          "height": 295
        },
        "id": "qXPziLfRKCFm",
        "outputId": "3cbf6366-48ad-4802-9853-463aa371ce84"
      },
      "source": [
        "eval_metric(reg_model, reg_history, 'loss')"
      ],
      "execution_count": 57,
      "outputs": [
        {
          "output_type": "display_data",
          "data": {
            "image/png": "[encoded data removed]",
            "text/plain": [
              "<Figure size 432x288 with 1 Axes>"
            ]
          },
          "metadata": {
            "tags": [],
            "needs_background": "light"
          }
        }
      ]
    },
    {
      "cell_type": "code",
      "metadata": {
        "colab": {
          "base_uri": "https://localhost:8080/",
          "height": 295
        },
        "id": "AqwRm2eaKFY3",
        "outputId": "fc42c989-dca5-4df1-ed33-5eb7776345bc"
      },
      "source": [
        "compare_models_by_metric(base_model, reg_model, base_history, reg_history, 'val_loss')"
      ],
      "execution_count": 58,
      "outputs": [
        {
          "output_type": "display_data",
          "data": {
            "image/png": "[encoded data removed]",
            "text/plain": [
              "<Figure size 432x288 with 1 Axes>"
            ]
          },
          "metadata": {
            "tags": [],
            "needs_background": "light"
          }
        }
      ]
    },
    {
      "cell_type": "markdown",
      "metadata": {
        "id": "-pgoP8v7KI2T"
      },
      "source": [
        "The last option we’ll try is to add Dropout layers. A Dropout layer will randomly set output features of a layer to zero.\n"
      ]
    },
    {
      "cell_type": "code",
      "metadata": {
        "colab": {
          "base_uri": "https://localhost:8080/",
          "height": 312
        },
        "id": "ym0gb9YvKKMw",
        "outputId": "be270267-1bcd-459b-e047-cd273573ad1c"
      },
      "source": [
        "drop_model = models.Sequential()\n",
        "drop_model.add(layers.Dense(64, activation='relu', input_shape=(NB_WORDS,)))\n",
        "drop_model.add(layers.Dropout(0.5))\n",
        "drop_model.add(layers.Dense(64, activation='relu'))\n",
        "drop_model.add(layers.Dropout(0.5))\n",
        "drop_model.add(layers.Dense(3, activation='softmax'))\n",
        "drop_model.names = 'Dropout layers model'\n",
        "drop_history = deep_model(drop_model, xtrain_rest, ytrain_rest, xvalid, yvalid)\n",
        "drop_min = optimal_epoch(drop_history)\n",
        "eval_metric(drop_model, drop_history, 'loss')"
      ],
      "execution_count": 59,
      "outputs": [
        {
          "output_type": "stream",
          "text": [
            "Minimum validation loss reached in epoch 9\n"
          ],
          "name": "stdout"
        },
        {
          "output_type": "display_data",
          "data": {
            "image/png": "[encoded data removed]",
            "text/plain": [
              "<Figure size 432x288 with 1 Axes>"
            ]
          },
          "metadata": {
            "tags": [],
            "needs_background": "light"
          }
        }
      ]
    },
    {
      "cell_type": "markdown",
      "metadata": {
        "id": "l8cTGCv-KUD2"
      },
      "source": [
        "The model with dropout layers starts overfitting later than the baseline model. The loss also increases slower than the baseline model.\n"
      ]
    },
    {
      "cell_type": "code",
      "metadata": {
        "colab": {
          "base_uri": "https://localhost:8080/",
          "height": 295
        },
        "id": "-zeE0DnHKVhB",
        "outputId": "5cdb0954-8d57-4854-c731-19a76a5b36ab"
      },
      "source": [
        "compare_models_by_metric(base_model, drop_model, base_history, drop_history, 'val_loss')"
      ],
      "execution_count": 60,
      "outputs": [
        {
          "output_type": "display_data",
          "data": {
            "image/png": "[encoded data removed]",
            "text/plain": [
              "<Figure size 432x288 with 1 Axes>"
            ]
          },
          "metadata": {
            "tags": [],
            "needs_background": "light"
          }
        }
      ]
    },
    {
      "cell_type": "markdown",
      "metadata": {
        "id": "1qPykTUOKZMJ"
      },
      "source": [
        "The model with the Dropout layers starts overfitting later. Compared to the baseline model the loss also remains much lower.\n"
      ]
    },
    {
      "cell_type": "markdown",
      "metadata": {
        "id": "hORL8YbIKdxy"
      },
      "source": [
        "At first sight, the reduced model seems to be the best model for generalization. But let’s check that on the test set.\n"
      ]
    },
    {
      "cell_type": "code",
      "metadata": {
        "colab": {
          "base_uri": "https://localhost:8080/"
        },
        "id": "udfQqf2xKeli",
        "outputId": "e9e95e00-5ca9-4bfd-9210-8df3683d47dd"
      },
      "source": [
        "base_results = test_model(base_model, xtrain_oh, ytrain_oh, xtest_oh, ytest_oh, base_min)\n",
        "reduced_results = test_model(reduced_model, xtrain_oh, ytrain_oh, xtest_oh, ytest_oh, reduced_min)\n",
        "reg_results = test_model(reg_model, xtrain_oh, ytrain_oh, xtest_oh, ytest_oh, reg_min)\n",
        "drop_results = test_model(drop_model, xtrain_oh, ytrain_oh, xtest_oh, ytest_oh, drop_min)"
      ],
      "execution_count": 70,
      "outputs": [
        {
          "output_type": "stream",
          "text": [
            "46/46 [==============================] - 0s 3ms/step - loss: 0.9021 - accuracy: 0.7637\n",
            "\n",
            "Test accuracy: 76.37%\n",
            "[0.9021221995353699, 0.7636612057685852]\n",
            "46/46 [==============================] - 0s 3ms/step - loss: 0.6029 - accuracy: 0.7630\n",
            "\n",
            "Test accuracy: 76.30%\n",
            "[0.6029250621795654, 0.7629781365394592]\n",
            "46/46 [==============================] - 0s 2ms/step - loss: 0.7675 - accuracy: 0.7541\n",
            "\n",
            "Test accuracy: 75.41%\n",
            "[0.7674874067306519, 0.7540983557701111]\n",
            "46/46 [==============================] - 0s 3ms/step - loss: 0.6819 - accuracy: 0.7664\n",
            "\n",
            "Test accuracy: 76.64%\n",
            "[0.6819365620613098, 0.7663934230804443]\n"
          ],
          "name": "stdout"
        }
      ]
    }
  ]
}