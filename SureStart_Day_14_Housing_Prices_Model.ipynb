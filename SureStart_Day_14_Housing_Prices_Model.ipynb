{
  "nbformat": 4,
  "nbformat_minor": 0,
  "metadata": {
    "colab": {
      "name": "SureStart Day 14 - Housing Prices Model.ipynb",
      "provenance": []
    },
    "kernelspec": {
      "name": "python3",
      "display_name": "Python 3"
    },
    "language_info": {
      "name": "python"
    }
  },
  "cells": [
    {
      "cell_type": "markdown",
      "metadata": {
        "id": "UpZJL9ScDMx1"
      },
      "source": [
        "Instructions from: https://hackernoon.com/build-your-first-neural-network-to-predict-house-prices-with-keras-3fb0839680f4"
      ]
    },
    {
      "cell_type": "markdown",
      "metadata": {
        "id": "A3SXdJ5rEuBB"
      },
      "source": [
        "Model will look at the \n",
        "- Lot Area (sq ft)\n",
        "- Overall quality (scale from 1-10)\n",
        "- Overall condition (scale from 1-10)\n",
        "- Total basement area (in sq ft)\n",
        "- Num of full bathrooms \n",
        "- Num of half bathrooms\n",
        "- Num of bedrooms above ground\n",
        "- Num of rooms above ground\n",
        "- Total num of rooms above ground\n",
        "- Num of fireplaces\n",
        "- Garage Area (in sq ft)\n",
        "\n",
        "of a house. It will then predict if the house price is above the median or not (1 for yes and 0 for no)"
      ]
    },
    {
      "cell_type": "code",
      "metadata": {
        "id": "HOC66_IX2ycJ"
      },
      "source": [
        "#referd to code in the package 'pandas' with the name pd\n",
        "import pandas as pd\n",
        "import sklearn"
      ],
      "execution_count": null,
      "outputs": []
    },
    {
      "cell_type": "code",
      "metadata": {
        "colab": {
          "base_uri": "https://localhost:8080/",
          "height": 419
        },
        "id": "aZgBCEoE284G",
        "outputId": "835f9f6f-69aa-4db9-995a-f44fed05b23c"
      },
      "source": [
        "#read the csv file\n",
        "df = pd.read_csv('/content/drive/MyDrive/SureStart/housepricedata.csv')\n",
        "df"
      ],
      "execution_count": null,
      "outputs": [
        {
          "output_type": "execute_result",
          "data": {
            "text/html": [
              "<div>\n",
              "<style scoped>\n",
              "    .dataframe tbody tr th:only-of-type {\n",
              "        vertical-align: middle;\n",
              "    }\n",
              "\n",
              "    .dataframe tbody tr th {\n",
              "        vertical-align: top;\n",
              "    }\n",
              "\n",
              "    .dataframe thead th {\n",
              "        text-align: right;\n",
              "    }\n",
              "</style>\n",
              "<table border=\"1\" class=\"dataframe\">\n",
              "  <thead>\n",
              "    <tr style=\"text-align: right;\">\n",
              "      <th></th>\n",
              "      <th>LotArea</th>\n",
              "      <th>OverallQual</th>\n",
              "      <th>OverallCond</th>\n",
              "      <th>TotalBsmtSF</th>\n",
              "      <th>FullBath</th>\n",
              "      <th>HalfBath</th>\n",
              "      <th>BedroomAbvGr</th>\n",
              "      <th>TotRmsAbvGrd</th>\n",
              "      <th>Fireplaces</th>\n",
              "      <th>GarageArea</th>\n",
              "      <th>AboveMedianPrice</th>\n",
              "    </tr>\n",
              "  </thead>\n",
              "  <tbody>\n",
              "    <tr>\n",
              "      <th>0</th>\n",
              "      <td>8450</td>\n",
              "      <td>7</td>\n",
              "      <td>5</td>\n",
              "      <td>856</td>\n",
              "      <td>2</td>\n",
              "      <td>1</td>\n",
              "      <td>3</td>\n",
              "      <td>8</td>\n",
              "      <td>0</td>\n",
              "      <td>548</td>\n",
              "      <td>1</td>\n",
              "    </tr>\n",
              "    <tr>\n",
              "      <th>1</th>\n",
              "      <td>9600</td>\n",
              "      <td>6</td>\n",
              "      <td>8</td>\n",
              "      <td>1262</td>\n",
              "      <td>2</td>\n",
              "      <td>0</td>\n",
              "      <td>3</td>\n",
              "      <td>6</td>\n",
              "      <td>1</td>\n",
              "      <td>460</td>\n",
              "      <td>1</td>\n",
              "    </tr>\n",
              "    <tr>\n",
              "      <th>2</th>\n",
              "      <td>11250</td>\n",
              "      <td>7</td>\n",
              "      <td>5</td>\n",
              "      <td>920</td>\n",
              "      <td>2</td>\n",
              "      <td>1</td>\n",
              "      <td>3</td>\n",
              "      <td>6</td>\n",
              "      <td>1</td>\n",
              "      <td>608</td>\n",
              "      <td>1</td>\n",
              "    </tr>\n",
              "    <tr>\n",
              "      <th>3</th>\n",
              "      <td>9550</td>\n",
              "      <td>7</td>\n",
              "      <td>5</td>\n",
              "      <td>756</td>\n",
              "      <td>1</td>\n",
              "      <td>0</td>\n",
              "      <td>3</td>\n",
              "      <td>7</td>\n",
              "      <td>1</td>\n",
              "      <td>642</td>\n",
              "      <td>0</td>\n",
              "    </tr>\n",
              "    <tr>\n",
              "      <th>4</th>\n",
              "      <td>14260</td>\n",
              "      <td>8</td>\n",
              "      <td>5</td>\n",
              "      <td>1145</td>\n",
              "      <td>2</td>\n",
              "      <td>1</td>\n",
              "      <td>4</td>\n",
              "      <td>9</td>\n",
              "      <td>1</td>\n",
              "      <td>836</td>\n",
              "      <td>1</td>\n",
              "    </tr>\n",
              "    <tr>\n",
              "      <th>...</th>\n",
              "      <td>...</td>\n",
              "      <td>...</td>\n",
              "      <td>...</td>\n",
              "      <td>...</td>\n",
              "      <td>...</td>\n",
              "      <td>...</td>\n",
              "      <td>...</td>\n",
              "      <td>...</td>\n",
              "      <td>...</td>\n",
              "      <td>...</td>\n",
              "      <td>...</td>\n",
              "    </tr>\n",
              "    <tr>\n",
              "      <th>1455</th>\n",
              "      <td>7917</td>\n",
              "      <td>6</td>\n",
              "      <td>5</td>\n",
              "      <td>953</td>\n",
              "      <td>2</td>\n",
              "      <td>1</td>\n",
              "      <td>3</td>\n",
              "      <td>7</td>\n",
              "      <td>1</td>\n",
              "      <td>460</td>\n",
              "      <td>1</td>\n",
              "    </tr>\n",
              "    <tr>\n",
              "      <th>1456</th>\n",
              "      <td>13175</td>\n",
              "      <td>6</td>\n",
              "      <td>6</td>\n",
              "      <td>1542</td>\n",
              "      <td>2</td>\n",
              "      <td>0</td>\n",
              "      <td>3</td>\n",
              "      <td>7</td>\n",
              "      <td>2</td>\n",
              "      <td>500</td>\n",
              "      <td>1</td>\n",
              "    </tr>\n",
              "    <tr>\n",
              "      <th>1457</th>\n",
              "      <td>9042</td>\n",
              "      <td>7</td>\n",
              "      <td>9</td>\n",
              "      <td>1152</td>\n",
              "      <td>2</td>\n",
              "      <td>0</td>\n",
              "      <td>4</td>\n",
              "      <td>9</td>\n",
              "      <td>2</td>\n",
              "      <td>252</td>\n",
              "      <td>1</td>\n",
              "    </tr>\n",
              "    <tr>\n",
              "      <th>1458</th>\n",
              "      <td>9717</td>\n",
              "      <td>5</td>\n",
              "      <td>6</td>\n",
              "      <td>1078</td>\n",
              "      <td>1</td>\n",
              "      <td>0</td>\n",
              "      <td>2</td>\n",
              "      <td>5</td>\n",
              "      <td>0</td>\n",
              "      <td>240</td>\n",
              "      <td>0</td>\n",
              "    </tr>\n",
              "    <tr>\n",
              "      <th>1459</th>\n",
              "      <td>9937</td>\n",
              "      <td>5</td>\n",
              "      <td>6</td>\n",
              "      <td>1256</td>\n",
              "      <td>1</td>\n",
              "      <td>1</td>\n",
              "      <td>3</td>\n",
              "      <td>6</td>\n",
              "      <td>0</td>\n",
              "      <td>276</td>\n",
              "      <td>0</td>\n",
              "    </tr>\n",
              "  </tbody>\n",
              "</table>\n",
              "<p>1460 rows × 11 columns</p>\n",
              "</div>"
            ],
            "text/plain": [
              "      LotArea  OverallQual  ...  GarageArea  AboveMedianPrice\n",
              "0        8450            7  ...         548                 1\n",
              "1        9600            6  ...         460                 1\n",
              "2       11250            7  ...         608                 1\n",
              "3        9550            7  ...         642                 0\n",
              "4       14260            8  ...         836                 1\n",
              "...       ...          ...  ...         ...               ...\n",
              "1455     7917            6  ...         460                 1\n",
              "1456    13175            6  ...         500                 1\n",
              "1457     9042            7  ...         252                 1\n",
              "1458     9717            5  ...         240                 0\n",
              "1459     9937            5  ...         276                 0\n",
              "\n",
              "[1460 rows x 11 columns]"
            ]
          },
          "metadata": {
            "tags": []
          },
          "execution_count": 7
        }
      ]
    },
    {
      "cell_type": "code",
      "metadata": {
        "id": "S4eVH2io3IbO",
        "colab": {
          "base_uri": "https://localhost:8080/"
        },
        "outputId": "9f994bb4-306a-4aa6-f33b-6396d4cc368e"
      },
      "source": [
        "#convert the data into arrays\n",
        "dataset = df.values\n",
        "dataset"
      ],
      "execution_count": null,
      "outputs": [
        {
          "output_type": "execute_result",
          "data": {
            "text/plain": [
              "array([[ 8450,     7,     5, ...,     0,   548,     1],\n",
              "       [ 9600,     6,     8, ...,     1,   460,     1],\n",
              "       [11250,     7,     5, ...,     1,   608,     1],\n",
              "       ...,\n",
              "       [ 9042,     7,     9, ...,     2,   252,     1],\n",
              "       [ 9717,     5,     6, ...,     0,   240,     0],\n",
              "       [ 9937,     5,     6, ...,     0,   276,     0]])"
            ]
          },
          "metadata": {
            "tags": []
          },
          "execution_count": 8
        }
      ]
    },
    {
      "cell_type": "code",
      "metadata": {
        "id": "OXrQzo1I6xQ3"
      },
      "source": [
        "#split dataset into input (x), and desired predictions (y)\n",
        "#done by assigning the first 10 colums of the array to x, and the last colum to y\n",
        "X = dataset[:,0:10]\n",
        "Y = dataset[:,10]"
      ],
      "execution_count": null,
      "outputs": []
    },
    {
      "cell_type": "code",
      "metadata": {
        "colab": {
          "base_uri": "https://localhost:8080/"
        },
        "id": "ApIP2BIB7YxR",
        "outputId": "dd06c590-f6ef-44b5-b3ed-8a5ebbc1c75b"
      },
      "source": [
        "#scale the data\n",
        "from sklearn import preprocessing\n",
        "min_max_scaler = preprocessing.MinMaxScaler()\n",
        "#scale input features to [0,1]\n",
        "X_scale = min_max_scaler.fit_transform(x)\n",
        "X_scale"
      ],
      "execution_count": null,
      "outputs": [
        {
          "output_type": "execute_result",
          "data": {
            "text/plain": [
              "array([[0.0334198 , 0.66666667, 0.5       , ..., 0.5       , 0.        ,\n",
              "        0.3864598 ],\n",
              "       [0.03879502, 0.55555556, 0.875     , ..., 0.33333333, 0.33333333,\n",
              "        0.32440056],\n",
              "       [0.04650728, 0.66666667, 0.5       , ..., 0.33333333, 0.33333333,\n",
              "        0.42877292],\n",
              "       ...,\n",
              "       [0.03618687, 0.66666667, 1.        , ..., 0.58333333, 0.66666667,\n",
              "        0.17771509],\n",
              "       [0.03934189, 0.44444444, 0.625     , ..., 0.25      , 0.        ,\n",
              "        0.16925247],\n",
              "       [0.04037019, 0.44444444, 0.625     , ..., 0.33333333, 0.        ,\n",
              "        0.19464034]])"
            ]
          },
          "metadata": {
            "tags": []
          },
          "execution_count": 17
        }
      ]
    },
    {
      "cell_type": "code",
      "metadata": {
        "id": "IEuOi8gm9Bcd"
      },
      "source": [
        "#split data into training and testing\n",
        "from sklearn.model_selection import train_test_split\n",
        "\n",
        "#val_and_test size is 30% of overall dataset\n",
        "X_train, X_val_and_test, Y_train, Y_val_and_test = train_test_split(X_scale, Y, test_size=0.3)\n",
        "\n",
        "#split val_and_test size equally to validation & test set\n",
        "X_val, X_test, Y_val, Y_test = train_test_split(X_val_and_test, Y_val_and_test, test_size = 0.5)"
      ],
      "execution_count": null,
      "outputs": []
    },
    {
      "cell_type": "markdown",
      "metadata": {
        "id": "mSpqjDva-Kc4"
      },
      "source": [
        "Right now, we have six variables for the dataset to use\n",
        "- X_train(10 input features, 70% of full datset\n",
        "- X_val (10 input features, 15% of full dataset)\n",
        "- X_test (10 input features, 15% of full dataset)\n",
        "- Y_train (1 label, 70% of full dataset)\n",
        "- Y_val (1 label, 15% of full dataset)\n",
        "- Y_test (1 label, 15% of full dataset)"
      ]
    },
    {
      "cell_type": "code",
      "metadata": {
        "colab": {
          "base_uri": "https://localhost:8080/"
        },
        "id": "gERk2a9H-mm-",
        "outputId": "256edba3-1cf8-4c2c-cb31-46c66805857d"
      },
      "source": [
        "print(X_train.shape, X_val.shape, X_test.shape, Y_train.shape, Y_val.shape, Y_test.shape)"
      ],
      "execution_count": null,
      "outputs": [
        {
          "output_type": "stream",
          "text": [
            "(1022, 10) (219, 10) (219, 10) (1022,) (219,) (219,)\n"
          ],
          "name": "stdout"
        }
      ]
    },
    {
      "cell_type": "markdown",
      "metadata": {
        "id": "VLkeX54y_rig"
      },
      "source": [
        "The trianing set has 10222 data points while the validation & test set has 219 data points each. \n",
        "\n",
        "X variables have 10 input features, while the Y variable has 1 feature to predict\n",
        "\n",
        "The data is FINALLY ready!"
      ]
    },
    {
      "cell_type": "markdown",
      "metadata": {
        "id": "S_t51gXW_9R7"
      },
      "source": [
        "Now, we want this structure: \n",
        "\n",
        "Hidden layer 1: 32 neurons, ReLU activation\n",
        "Hidden layer 2: 32 neurons, ReLU activation\n",
        "Output Layer: 1 neuron, Sigmoid activation"
      ]
    },
    {
      "cell_type": "code",
      "metadata": {
        "id": "FlKi5iQmAJMQ"
      },
      "source": [
        "from keras import Sequential\n",
        "from keras.layers import Dense"
      ],
      "execution_count": null,
      "outputs": []
    },
    {
      "cell_type": "code",
      "metadata": {
        "id": "ZlO1DMYEAOYp"
      },
      "source": [
        "#specify our desired structure in the Keras sequential model\n",
        "model = Sequential([\n",
        "                    Dense(32, activation='relu', input_shape=(10,)),\n",
        "                    Dense(32, activation='relu'),\n",
        "                    Dense(1, activation='sigmoid'),\n",
        "])"
      ],
      "execution_count": null,
      "outputs": []
    },
    {
      "cell_type": "markdown",
      "metadata": {
        "id": "M9aDJYPaDVjG"
      },
      "source": [
        "Step 2: Fill in the best numbers. We have to: \n",
        "- Tell the model which algorith we want to use for optimization \n",
        "- Tell it what loss function to use\n",
        "- Tell it what other metrics you want to track apart from the loss function"
      ]
    },
    {
      "cell_type": "code",
      "metadata": {
        "id": "372gKOzPDlbV"
      },
      "source": [
        "model.compile(optimizer = 'sgd', #sgd = Stochastic Gradient Descent, or mini-batch gradient descent\n",
        "              loss = 'binary_crossentropy', #outputs 0 or 1\n",
        "              metrics=['accuracy']) #we want to track accuracy"
      ],
      "execution_count": null,
      "outputs": []
    },
    {
      "cell_type": "code",
      "metadata": {
        "colab": {
          "base_uri": "https://localhost:8080/"
        },
        "id": "7Ik0fULND9Gf",
        "outputId": "02874d65-6fad-44ad-8a01-0a3e3bf03678"
      },
      "source": [
        "#training on the data\n",
        "hist = model.fit(X_train, Y_train,\n",
        "                 batch_size=32, epochs=100,\n",
        "                 validation_data=(X_val, Y_val))"
      ],
      "execution_count": null,
      "outputs": [
        {
          "output_type": "stream",
          "text": [
            "Epoch 1/100\n",
            "32/32 [==============================] - 15s 18ms/step - loss: 0.6980 - accuracy: 0.4961 - val_loss: 0.6937 - val_accuracy: 0.5205\n",
            "Epoch 2/100\n",
            "32/32 [==============================] - 0s 2ms/step - loss: 0.6938 - accuracy: 0.4579 - val_loss: 0.6903 - val_accuracy: 0.5434\n",
            "Epoch 3/100\n",
            "32/32 [==============================] - 0s 2ms/step - loss: 0.6907 - accuracy: 0.5669 - val_loss: 0.6877 - val_accuracy: 0.5434\n",
            "Epoch 4/100\n",
            "32/32 [==============================] - 0s 2ms/step - loss: 0.6867 - accuracy: 0.5935 - val_loss: 0.6857 - val_accuracy: 0.5525\n",
            "Epoch 5/100\n",
            "32/32 [==============================] - 0s 2ms/step - loss: 0.6856 - accuracy: 0.5605 - val_loss: 0.6838 - val_accuracy: 0.5525\n",
            "Epoch 6/100\n",
            "32/32 [==============================] - 0s 2ms/step - loss: 0.6848 - accuracy: 0.5326 - val_loss: 0.6821 - val_accuracy: 0.5525\n",
            "Epoch 7/100\n",
            "32/32 [==============================] - 0s 2ms/step - loss: 0.6811 - accuracy: 0.5495 - val_loss: 0.6803 - val_accuracy: 0.5890\n",
            "Epoch 8/100\n",
            "32/32 [==============================] - 0s 2ms/step - loss: 0.6786 - accuracy: 0.5710 - val_loss: 0.6786 - val_accuracy: 0.6301\n",
            "Epoch 9/100\n",
            "32/32 [==============================] - 0s 2ms/step - loss: 0.6771 - accuracy: 0.6490 - val_loss: 0.6768 - val_accuracy: 0.6530\n",
            "Epoch 10/100\n",
            "32/32 [==============================] - 0s 3ms/step - loss: 0.6744 - accuracy: 0.6715 - val_loss: 0.6749 - val_accuracy: 0.6804\n",
            "Epoch 11/100\n",
            "32/32 [==============================] - 0s 2ms/step - loss: 0.6732 - accuracy: 0.6779 - val_loss: 0.6729 - val_accuracy: 0.6986\n",
            "Epoch 12/100\n",
            "32/32 [==============================] - 0s 3ms/step - loss: 0.6693 - accuracy: 0.7113 - val_loss: 0.6707 - val_accuracy: 0.7032\n",
            "Epoch 13/100\n",
            "32/32 [==============================] - 0s 2ms/step - loss: 0.6686 - accuracy: 0.7105 - val_loss: 0.6685 - val_accuracy: 0.7169\n",
            "Epoch 14/100\n",
            "32/32 [==============================] - 0s 2ms/step - loss: 0.6674 - accuracy: 0.7129 - val_loss: 0.6662 - val_accuracy: 0.7215\n",
            "Epoch 15/100\n",
            "32/32 [==============================] - 0s 2ms/step - loss: 0.6645 - accuracy: 0.7502 - val_loss: 0.6638 - val_accuracy: 0.7306\n",
            "Epoch 16/100\n",
            "32/32 [==============================] - 0s 2ms/step - loss: 0.6610 - accuracy: 0.7396 - val_loss: 0.6612 - val_accuracy: 0.7352\n",
            "Epoch 17/100\n",
            "32/32 [==============================] - 0s 2ms/step - loss: 0.6595 - accuracy: 0.7339 - val_loss: 0.6585 - val_accuracy: 0.7397\n",
            "Epoch 18/100\n",
            "32/32 [==============================] - 0s 2ms/step - loss: 0.6537 - accuracy: 0.7780 - val_loss: 0.6556 - val_accuracy: 0.7352\n",
            "Epoch 19/100\n",
            "32/32 [==============================] - 0s 2ms/step - loss: 0.6513 - accuracy: 0.7818 - val_loss: 0.6525 - val_accuracy: 0.7397\n",
            "Epoch 20/100\n",
            "32/32 [==============================] - 0s 3ms/step - loss: 0.6496 - accuracy: 0.7480 - val_loss: 0.6493 - val_accuracy: 0.7352\n",
            "Epoch 21/100\n",
            "32/32 [==============================] - 0s 2ms/step - loss: 0.6477 - accuracy: 0.7460 - val_loss: 0.6459 - val_accuracy: 0.7397\n",
            "Epoch 22/100\n",
            "32/32 [==============================] - 0s 2ms/step - loss: 0.6393 - accuracy: 0.7651 - val_loss: 0.6422 - val_accuracy: 0.7443\n",
            "Epoch 23/100\n",
            "32/32 [==============================] - 0s 2ms/step - loss: 0.6386 - accuracy: 0.7765 - val_loss: 0.6384 - val_accuracy: 0.7489\n",
            "Epoch 24/100\n",
            "32/32 [==============================] - 0s 3ms/step - loss: 0.6319 - accuracy: 0.7844 - val_loss: 0.6341 - val_accuracy: 0.7534\n",
            "Epoch 25/100\n",
            "32/32 [==============================] - 0s 2ms/step - loss: 0.6273 - accuracy: 0.7723 - val_loss: 0.6297 - val_accuracy: 0.7534\n",
            "Epoch 26/100\n",
            "32/32 [==============================] - 0s 2ms/step - loss: 0.6279 - accuracy: 0.7754 - val_loss: 0.6251 - val_accuracy: 0.7580\n",
            "Epoch 27/100\n",
            "32/32 [==============================] - 0s 3ms/step - loss: 0.6213 - accuracy: 0.7817 - val_loss: 0.6202 - val_accuracy: 0.7580\n",
            "Epoch 28/100\n",
            "32/32 [==============================] - 0s 2ms/step - loss: 0.6132 - accuracy: 0.8029 - val_loss: 0.6152 - val_accuracy: 0.7580\n",
            "Epoch 29/100\n",
            "32/32 [==============================] - 0s 2ms/step - loss: 0.6106 - accuracy: 0.7728 - val_loss: 0.6097 - val_accuracy: 0.7671\n",
            "Epoch 30/100\n",
            "32/32 [==============================] - 0s 2ms/step - loss: 0.5977 - accuracy: 0.8010 - val_loss: 0.6040 - val_accuracy: 0.7763\n",
            "Epoch 31/100\n",
            "32/32 [==============================] - 0s 2ms/step - loss: 0.5900 - accuracy: 0.8038 - val_loss: 0.5979 - val_accuracy: 0.7808\n",
            "Epoch 32/100\n",
            "32/32 [==============================] - 0s 2ms/step - loss: 0.5895 - accuracy: 0.7998 - val_loss: 0.5917 - val_accuracy: 0.7900\n",
            "Epoch 33/100\n",
            "32/32 [==============================] - 0s 2ms/step - loss: 0.5721 - accuracy: 0.8265 - val_loss: 0.5852 - val_accuracy: 0.7945\n",
            "Epoch 34/100\n",
            "32/32 [==============================] - 0s 2ms/step - loss: 0.5776 - accuracy: 0.8053 - val_loss: 0.5786 - val_accuracy: 0.7900\n",
            "Epoch 35/100\n",
            "32/32 [==============================] - 0s 3ms/step - loss: 0.5634 - accuracy: 0.8184 - val_loss: 0.5717 - val_accuracy: 0.7991\n",
            "Epoch 36/100\n",
            "32/32 [==============================] - 0s 2ms/step - loss: 0.5642 - accuracy: 0.8176 - val_loss: 0.5646 - val_accuracy: 0.8082\n",
            "Epoch 37/100\n",
            "32/32 [==============================] - 0s 2ms/step - loss: 0.5592 - accuracy: 0.8200 - val_loss: 0.5572 - val_accuracy: 0.8265\n",
            "Epoch 38/100\n",
            "32/32 [==============================] - 0s 2ms/step - loss: 0.5447 - accuracy: 0.8481 - val_loss: 0.5497 - val_accuracy: 0.8402\n",
            "Epoch 39/100\n",
            "32/32 [==============================] - 0s 2ms/step - loss: 0.5399 - accuracy: 0.8382 - val_loss: 0.5423 - val_accuracy: 0.8402\n",
            "Epoch 40/100\n",
            "32/32 [==============================] - 0s 2ms/step - loss: 0.5409 - accuracy: 0.8255 - val_loss: 0.5347 - val_accuracy: 0.8447\n",
            "Epoch 41/100\n",
            "32/32 [==============================] - 0s 3ms/step - loss: 0.5144 - accuracy: 0.8417 - val_loss: 0.5271 - val_accuracy: 0.8493\n",
            "Epoch 42/100\n",
            "32/32 [==============================] - 0s 2ms/step - loss: 0.5196 - accuracy: 0.8352 - val_loss: 0.5196 - val_accuracy: 0.8493\n",
            "Epoch 43/100\n",
            "32/32 [==============================] - 0s 2ms/step - loss: 0.5123 - accuracy: 0.8244 - val_loss: 0.5119 - val_accuracy: 0.8447\n",
            "Epoch 44/100\n",
            "32/32 [==============================] - 0s 2ms/step - loss: 0.4876 - accuracy: 0.8639 - val_loss: 0.5044 - val_accuracy: 0.8447\n",
            "Epoch 45/100\n",
            "32/32 [==============================] - 0s 2ms/step - loss: 0.4995 - accuracy: 0.8304 - val_loss: 0.4970 - val_accuracy: 0.8447\n",
            "Epoch 46/100\n",
            "32/32 [==============================] - 0s 2ms/step - loss: 0.4802 - accuracy: 0.8476 - val_loss: 0.4896 - val_accuracy: 0.8447\n",
            "Epoch 47/100\n",
            "32/32 [==============================] - 0s 2ms/step - loss: 0.4805 - accuracy: 0.8420 - val_loss: 0.4824 - val_accuracy: 0.8402\n",
            "Epoch 48/100\n",
            "32/32 [==============================] - 0s 2ms/step - loss: 0.4689 - accuracy: 0.8514 - val_loss: 0.4754 - val_accuracy: 0.8402\n",
            "Epoch 49/100\n",
            "32/32 [==============================] - 0s 2ms/step - loss: 0.4559 - accuracy: 0.8506 - val_loss: 0.4685 - val_accuracy: 0.8402\n",
            "Epoch 50/100\n",
            "32/32 [==============================] - 0s 2ms/step - loss: 0.4453 - accuracy: 0.8532 - val_loss: 0.4620 - val_accuracy: 0.8493\n",
            "Epoch 51/100\n",
            "32/32 [==============================] - 0s 3ms/step - loss: 0.4476 - accuracy: 0.8449 - val_loss: 0.4554 - val_accuracy: 0.8493\n",
            "Epoch 52/100\n",
            "32/32 [==============================] - 0s 2ms/step - loss: 0.4272 - accuracy: 0.8639 - val_loss: 0.4493 - val_accuracy: 0.8447\n",
            "Epoch 53/100\n",
            "32/32 [==============================] - 0s 3ms/step - loss: 0.4455 - accuracy: 0.8510 - val_loss: 0.4431 - val_accuracy: 0.8447\n",
            "Epoch 54/100\n",
            "32/32 [==============================] - 0s 2ms/step - loss: 0.4193 - accuracy: 0.8582 - val_loss: 0.4373 - val_accuracy: 0.8539\n",
            "Epoch 55/100\n",
            "32/32 [==============================] - 0s 3ms/step - loss: 0.4331 - accuracy: 0.8380 - val_loss: 0.4317 - val_accuracy: 0.8539\n",
            "Epoch 56/100\n",
            "32/32 [==============================] - 0s 2ms/step - loss: 0.4109 - accuracy: 0.8495 - val_loss: 0.4264 - val_accuracy: 0.8493\n",
            "Epoch 57/100\n",
            "32/32 [==============================] - 0s 2ms/step - loss: 0.4080 - accuracy: 0.8620 - val_loss: 0.4212 - val_accuracy: 0.8493\n",
            "Epoch 58/100\n",
            "32/32 [==============================] - 0s 2ms/step - loss: 0.3903 - accuracy: 0.8734 - val_loss: 0.4163 - val_accuracy: 0.8493\n",
            "Epoch 59/100\n",
            "32/32 [==============================] - 0s 2ms/step - loss: 0.3816 - accuracy: 0.8617 - val_loss: 0.4115 - val_accuracy: 0.8493\n",
            "Epoch 60/100\n",
            "32/32 [==============================] - 0s 2ms/step - loss: 0.4260 - accuracy: 0.8398 - val_loss: 0.4070 - val_accuracy: 0.8447\n",
            "Epoch 61/100\n",
            "32/32 [==============================] - 0s 2ms/step - loss: 0.3668 - accuracy: 0.8695 - val_loss: 0.4029 - val_accuracy: 0.8493\n",
            "Epoch 62/100\n",
            "32/32 [==============================] - 0s 3ms/step - loss: 0.3897 - accuracy: 0.8534 - val_loss: 0.3986 - val_accuracy: 0.8584\n",
            "Epoch 63/100\n",
            "32/32 [==============================] - 0s 2ms/step - loss: 0.3794 - accuracy: 0.8490 - val_loss: 0.3947 - val_accuracy: 0.8447\n",
            "Epoch 64/100\n",
            "32/32 [==============================] - 0s 2ms/step - loss: 0.3568 - accuracy: 0.8704 - val_loss: 0.3911 - val_accuracy: 0.8493\n",
            "Epoch 65/100\n",
            "32/32 [==============================] - 0s 2ms/step - loss: 0.3675 - accuracy: 0.8740 - val_loss: 0.3877 - val_accuracy: 0.8493\n",
            "Epoch 66/100\n",
            "32/32 [==============================] - 0s 2ms/step - loss: 0.3687 - accuracy: 0.8751 - val_loss: 0.3842 - val_accuracy: 0.8539\n",
            "Epoch 67/100\n",
            "32/32 [==============================] - 0s 2ms/step - loss: 0.3594 - accuracy: 0.8784 - val_loss: 0.3812 - val_accuracy: 0.8584\n",
            "Epoch 68/100\n",
            "32/32 [==============================] - 0s 2ms/step - loss: 0.3358 - accuracy: 0.8897 - val_loss: 0.3783 - val_accuracy: 0.8447\n",
            "Epoch 69/100\n",
            "32/32 [==============================] - 0s 2ms/step - loss: 0.3685 - accuracy: 0.8714 - val_loss: 0.3755 - val_accuracy: 0.8539\n",
            "Epoch 70/100\n",
            "32/32 [==============================] - 0s 2ms/step - loss: 0.3675 - accuracy: 0.8621 - val_loss: 0.3727 - val_accuracy: 0.8539\n",
            "Epoch 71/100\n",
            "32/32 [==============================] - 0s 2ms/step - loss: 0.3607 - accuracy: 0.8742 - val_loss: 0.3709 - val_accuracy: 0.8539\n",
            "Epoch 72/100\n",
            "32/32 [==============================] - 0s 2ms/step - loss: 0.3320 - accuracy: 0.8849 - val_loss: 0.3678 - val_accuracy: 0.8630\n",
            "Epoch 73/100\n",
            "32/32 [==============================] - 0s 2ms/step - loss: 0.3452 - accuracy: 0.8708 - val_loss: 0.3657 - val_accuracy: 0.8630\n",
            "Epoch 74/100\n",
            "32/32 [==============================] - 0s 2ms/step - loss: 0.3400 - accuracy: 0.8715 - val_loss: 0.3635 - val_accuracy: 0.8630\n",
            "Epoch 75/100\n",
            "32/32 [==============================] - 0s 2ms/step - loss: 0.3427 - accuracy: 0.8806 - val_loss: 0.3615 - val_accuracy: 0.8630\n",
            "Epoch 76/100\n",
            "32/32 [==============================] - 0s 2ms/step - loss: 0.3343 - accuracy: 0.8801 - val_loss: 0.3597 - val_accuracy: 0.8630\n",
            "Epoch 77/100\n",
            "32/32 [==============================] - 0s 2ms/step - loss: 0.3126 - accuracy: 0.8942 - val_loss: 0.3579 - val_accuracy: 0.8630\n",
            "Epoch 78/100\n",
            "32/32 [==============================] - 0s 2ms/step - loss: 0.3159 - accuracy: 0.8885 - val_loss: 0.3560 - val_accuracy: 0.8584\n",
            "Epoch 79/100\n",
            "32/32 [==============================] - 0s 3ms/step - loss: 0.3405 - accuracy: 0.8698 - val_loss: 0.3540 - val_accuracy: 0.8721\n",
            "Epoch 80/100\n",
            "32/32 [==============================] - 0s 2ms/step - loss: 0.3129 - accuracy: 0.9000 - val_loss: 0.3527 - val_accuracy: 0.8676\n",
            "Epoch 81/100\n",
            "32/32 [==============================] - 0s 2ms/step - loss: 0.3336 - accuracy: 0.8713 - val_loss: 0.3517 - val_accuracy: 0.8676\n",
            "Epoch 82/100\n",
            "32/32 [==============================] - 0s 2ms/step - loss: 0.3383 - accuracy: 0.8743 - val_loss: 0.3499 - val_accuracy: 0.8676\n",
            "Epoch 83/100\n",
            "32/32 [==============================] - 0s 2ms/step - loss: 0.3126 - accuracy: 0.8880 - val_loss: 0.3490 - val_accuracy: 0.8676\n",
            "Epoch 84/100\n",
            "32/32 [==============================] - 0s 2ms/step - loss: 0.3361 - accuracy: 0.8695 - val_loss: 0.3467 - val_accuracy: 0.8721\n",
            "Epoch 85/100\n",
            "32/32 [==============================] - 0s 2ms/step - loss: 0.3134 - accuracy: 0.8847 - val_loss: 0.3453 - val_accuracy: 0.8676\n",
            "Epoch 86/100\n",
            "32/32 [==============================] - 0s 3ms/step - loss: 0.3364 - accuracy: 0.8856 - val_loss: 0.3441 - val_accuracy: 0.8676\n",
            "Epoch 87/100\n",
            "32/32 [==============================] - 0s 2ms/step - loss: 0.3012 - accuracy: 0.8873 - val_loss: 0.3429 - val_accuracy: 0.8721\n",
            "Epoch 88/100\n",
            "32/32 [==============================] - 0s 2ms/step - loss: 0.3126 - accuracy: 0.8813 - val_loss: 0.3436 - val_accuracy: 0.8767\n",
            "Epoch 89/100\n",
            "32/32 [==============================] - 0s 2ms/step - loss: 0.3118 - accuracy: 0.8767 - val_loss: 0.3409 - val_accuracy: 0.8721\n",
            "Epoch 90/100\n",
            "32/32 [==============================] - 0s 2ms/step - loss: 0.2993 - accuracy: 0.8813 - val_loss: 0.3396 - val_accuracy: 0.8721\n",
            "Epoch 91/100\n",
            "32/32 [==============================] - 0s 2ms/step - loss: 0.3127 - accuracy: 0.8806 - val_loss: 0.3407 - val_accuracy: 0.8721\n",
            "Epoch 92/100\n",
            "32/32 [==============================] - 0s 2ms/step - loss: 0.2931 - accuracy: 0.8841 - val_loss: 0.3378 - val_accuracy: 0.8721\n",
            "Epoch 93/100\n",
            "32/32 [==============================] - 0s 2ms/step - loss: 0.2957 - accuracy: 0.8940 - val_loss: 0.3367 - val_accuracy: 0.8721\n",
            "Epoch 94/100\n",
            "32/32 [==============================] - 0s 2ms/step - loss: 0.2925 - accuracy: 0.8832 - val_loss: 0.3360 - val_accuracy: 0.8721\n",
            "Epoch 95/100\n",
            "32/32 [==============================] - 0s 2ms/step - loss: 0.2998 - accuracy: 0.8828 - val_loss: 0.3360 - val_accuracy: 0.8721\n",
            "Epoch 96/100\n",
            "32/32 [==============================] - 0s 2ms/step - loss: 0.2822 - accuracy: 0.9034 - val_loss: 0.3339 - val_accuracy: 0.8676\n",
            "Epoch 97/100\n",
            "32/32 [==============================] - 0s 2ms/step - loss: 0.2897 - accuracy: 0.8852 - val_loss: 0.3346 - val_accuracy: 0.8721\n",
            "Epoch 98/100\n",
            "32/32 [==============================] - 0s 2ms/step - loss: 0.2744 - accuracy: 0.9024 - val_loss: 0.3339 - val_accuracy: 0.8721\n",
            "Epoch 99/100\n",
            "32/32 [==============================] - 0s 2ms/step - loss: 0.3128 - accuracy: 0.8775 - val_loss: 0.3326 - val_accuracy: 0.8767\n",
            "Epoch 100/100\n",
            "32/32 [==============================] - 0s 2ms/step - loss: 0.2822 - accuracy: 0.8933 - val_loss: 0.3323 - val_accuracy: 0.8721\n"
          ],
          "name": "stdout"
        }
      ]
    },
    {
      "cell_type": "code",
      "metadata": {
        "colab": {
          "base_uri": "https://localhost:8080/"
        },
        "id": "DArdUz6bETOQ",
        "outputId": "5fb0176d-61bf-4efa-ede6-abc6fa0f3a69"
      },
      "source": [
        "#now, we can try the model on the test set\n",
        "model.evaluate(X_test, Y_test)[1]"
      ],
      "execution_count": null,
      "outputs": [
        {
          "output_type": "stream",
          "text": [
            "7/7 [==============================] - 0s 2ms/step - loss: 0.2428 - accuracy: 0.9041\n"
          ],
          "name": "stdout"
        },
        {
          "output_type": "execute_result",
          "data": {
            "text/plain": [
              "0.9041095972061157"
            ]
          },
          "metadata": {
            "tags": []
          },
          "execution_count": 28
        }
      ]
    },
    {
      "cell_type": "code",
      "metadata": {
        "colab": {
          "base_uri": "https://localhost:8080/",
          "height": 295
        },
        "id": "LsT4Zh2TFaFM",
        "outputId": "8a18374d-8446-4bb6-eaf8-a06958f8981c"
      },
      "source": [
        "#make some graphs\n",
        "import matplotlib.pyplot as plt\n",
        "\n",
        "#we want to visualize the training loss and the validation loss\n",
        "plt.plot(hist.history['loss'])\n",
        "plt.plot(hist.history['val_loss'])\n",
        "plt.title('Model Loss')\n",
        "plt.ylabel('Loss')\n",
        "plt.xlabel('Epoch')\n",
        "plt.legend(['Train', 'Val'], loc='upper right')\n",
        "plt.show()"
      ],
      "execution_count": 29,
      "outputs": [
        {
          "output_type": "display_data",
          "data": {
            "image/png": "[encoded data removed]",
            "text/plain": [
              "<Figure size 432x288 with 1 Axes>"
            ]
          },
          "metadata": {
            "tags": [],
            "needs_background": "light"
          }
        }
      ]
    },
    {
      "cell_type": "code",
      "metadata": {
        "colab": {
          "base_uri": "https://localhost:8080/",
          "height": 295
        },
        "id": "o9q1AUw8F1qq",
        "outputId": "3849d2b6-3f09-4701-8df1-a190f76600bc"
      },
      "source": [
        "#make a graph to show the training & validation accuracy \n",
        "plt.plot(hist.history['accuracy'])\n",
        "plt.plot(hist.history['val_accuracy'])\n",
        "plt.title('Model accuracy')\n",
        "plt.ylabel('Accuracy')\n",
        "plt.xlabel('Epoch')\n",
        "plt.legend(['Train', 'Val'], loc='lower right')\n",
        "plt.show()"
      ],
      "execution_count": 34,
      "outputs": [
        {
          "output_type": "display_data",
          "data": {
            "image/png": "[encoded data removed]",
            "text/plain": [
              "<Figure size 432x288 with 1 Axes>"
            ]
          },
          "metadata": {
            "tags": [],
            "needs_background": "light"
          }
        }
      ]
    },
    {
      "cell_type": "code",
      "metadata": {
        "id": "P52wiNmIHIVo"
      },
      "source": [
        "#Now, we can introduce regularization to our NN\n",
        "#Let's formulate w/a neural network that will badly overfit on the training set. \n",
        "\n",
        "model_2 = Sequential([\n",
        "                      Dense(1000, activation='relu', input_shape=(10,)),\n",
        "                      Dense(1000, activation='relu'),\n",
        "                      Dense(1000, activation='relu'),\n",
        "                      Dense(1000, activation='relu'),\n",
        "                      Dense(1, activation='sigmoid'),\n",
        "                    \n",
        "])"
      ],
      "execution_count": 35,
      "outputs": []
    },
    {
      "cell_type": "code",
      "metadata": {
        "id": "ETEjPMW8HmsK"
      },
      "source": [
        "model_2.compile(optimizer='adam',\n",
        "                loss='binary_crossentropy',\n",
        "                metrics=['accuracy'])"
      ],
      "execution_count": 36,
      "outputs": []
    },
    {
      "cell_type": "code",
      "metadata": {
        "colab": {
          "base_uri": "https://localhost:8080/"
        },
        "id": "oPtHqHkKH086",
        "outputId": "58d3a6be-400b-417e-fc42-ee7544f72fac"
      },
      "source": [
        "hist_2 = model_2.fit(X_train, Y_train,\n",
        "                     batch_size=32, epochs = 100, \n",
        "                     validation_data=(X_val, Y_val))"
      ],
      "execution_count": 38,
      "outputs": [
        {
          "output_type": "stream",
          "text": [
            "Epoch 1/100\n",
            "32/32 [==============================] - 2s 48ms/step - loss: 0.5469 - accuracy: 0.7081 - val_loss: 0.3979 - val_accuracy: 0.8265\n",
            "Epoch 2/100\n",
            "32/32 [==============================] - 1s 36ms/step - loss: 0.3426 - accuracy: 0.8651 - val_loss: 0.3383 - val_accuracy: 0.8493\n",
            "Epoch 3/100\n",
            "32/32 [==============================] - 1s 38ms/step - loss: 0.3043 - accuracy: 0.8776 - val_loss: 0.3659 - val_accuracy: 0.8311\n",
            "Epoch 4/100\n",
            "32/32 [==============================] - 1s 37ms/step - loss: 0.3359 - accuracy: 0.8658 - val_loss: 0.3238 - val_accuracy: 0.8767\n",
            "Epoch 5/100\n",
            "32/32 [==============================] - 1s 36ms/step - loss: 0.2541 - accuracy: 0.8861 - val_loss: 0.3655 - val_accuracy: 0.8813\n",
            "Epoch 6/100\n",
            "32/32 [==============================] - 1s 37ms/step - loss: 0.3104 - accuracy: 0.8870 - val_loss: 0.3364 - val_accuracy: 0.8402\n",
            "Epoch 7/100\n",
            "32/32 [==============================] - 1s 36ms/step - loss: 0.2599 - accuracy: 0.8897 - val_loss: 0.3472 - val_accuracy: 0.8767\n",
            "Epoch 8/100\n",
            "32/32 [==============================] - 1s 37ms/step - loss: 0.2506 - accuracy: 0.8988 - val_loss: 0.3514 - val_accuracy: 0.8813\n",
            "Epoch 9/100\n",
            "32/32 [==============================] - 1s 37ms/step - loss: 0.2567 - accuracy: 0.9084 - val_loss: 0.2738 - val_accuracy: 0.8950\n",
            "Epoch 10/100\n",
            "32/32 [==============================] - 1s 36ms/step - loss: 0.2259 - accuracy: 0.9031 - val_loss: 0.3261 - val_accuracy: 0.8858\n",
            "Epoch 11/100\n",
            "32/32 [==============================] - 1s 36ms/step - loss: 0.2150 - accuracy: 0.9060 - val_loss: 0.2803 - val_accuracy: 0.9087\n",
            "Epoch 12/100\n",
            "32/32 [==============================] - 1s 37ms/step - loss: 0.2352 - accuracy: 0.8988 - val_loss: 0.2997 - val_accuracy: 0.8721\n",
            "Epoch 13/100\n",
            "32/32 [==============================] - 1s 38ms/step - loss: 0.2252 - accuracy: 0.9097 - val_loss: 0.2983 - val_accuracy: 0.8950\n",
            "Epoch 14/100\n",
            "32/32 [==============================] - 1s 37ms/step - loss: 0.2337 - accuracy: 0.8937 - val_loss: 0.2967 - val_accuracy: 0.8858\n",
            "Epoch 15/100\n",
            "32/32 [==============================] - 1s 38ms/step - loss: 0.2119 - accuracy: 0.9109 - val_loss: 0.3341 - val_accuracy: 0.8813\n",
            "Epoch 16/100\n",
            "32/32 [==============================] - 1s 37ms/step - loss: 0.2019 - accuracy: 0.9165 - val_loss: 0.3368 - val_accuracy: 0.8950\n",
            "Epoch 17/100\n",
            "32/32 [==============================] - 1s 37ms/step - loss: 0.2010 - accuracy: 0.9101 - val_loss: 0.3380 - val_accuracy: 0.8447\n",
            "Epoch 18/100\n",
            "32/32 [==============================] - 1s 37ms/step - loss: 0.2008 - accuracy: 0.9120 - val_loss: 0.3122 - val_accuracy: 0.8584\n",
            "Epoch 19/100\n",
            "32/32 [==============================] - 1s 37ms/step - loss: 0.2307 - accuracy: 0.8905 - val_loss: 0.3931 - val_accuracy: 0.8082\n",
            "Epoch 20/100\n",
            "32/32 [==============================] - 1s 37ms/step - loss: 0.2066 - accuracy: 0.9054 - val_loss: 0.3093 - val_accuracy: 0.8858\n",
            "Epoch 21/100\n",
            "32/32 [==============================] - 1s 37ms/step - loss: 0.1760 - accuracy: 0.9176 - val_loss: 0.3202 - val_accuracy: 0.8995\n",
            "Epoch 22/100\n",
            "32/32 [==============================] - 1s 37ms/step - loss: 0.2108 - accuracy: 0.9155 - val_loss: 0.3098 - val_accuracy: 0.8767\n",
            "Epoch 23/100\n",
            "32/32 [==============================] - 1s 38ms/step - loss: 0.1874 - accuracy: 0.9208 - val_loss: 0.3067 - val_accuracy: 0.8813\n",
            "Epoch 24/100\n",
            "32/32 [==============================] - 1s 37ms/step - loss: 0.2001 - accuracy: 0.9035 - val_loss: 0.3697 - val_accuracy: 0.8995\n",
            "Epoch 25/100\n",
            "32/32 [==============================] - 1s 37ms/step - loss: 0.1922 - accuracy: 0.9144 - val_loss: 0.3005 - val_accuracy: 0.8904\n",
            "Epoch 26/100\n",
            "32/32 [==============================] - 1s 38ms/step - loss: 0.2167 - accuracy: 0.8972 - val_loss: 0.3446 - val_accuracy: 0.8950\n",
            "Epoch 27/100\n",
            "32/32 [==============================] - 1s 37ms/step - loss: 0.1985 - accuracy: 0.9147 - val_loss: 0.3155 - val_accuracy: 0.8584\n",
            "Epoch 28/100\n",
            "32/32 [==============================] - 1s 37ms/step - loss: 0.1855 - accuracy: 0.9222 - val_loss: 0.3087 - val_accuracy: 0.9041\n",
            "Epoch 29/100\n",
            "32/32 [==============================] - 1s 37ms/step - loss: 0.1735 - accuracy: 0.9351 - val_loss: 0.3185 - val_accuracy: 0.8995\n",
            "Epoch 30/100\n",
            "32/32 [==============================] - 1s 36ms/step - loss: 0.1889 - accuracy: 0.9188 - val_loss: 0.3898 - val_accuracy: 0.9041\n",
            "Epoch 31/100\n",
            "32/32 [==============================] - 1s 37ms/step - loss: 0.2398 - accuracy: 0.8854 - val_loss: 0.3229 - val_accuracy: 0.9041\n",
            "Epoch 32/100\n",
            "32/32 [==============================] - 1s 37ms/step - loss: 0.1639 - accuracy: 0.9273 - val_loss: 0.3467 - val_accuracy: 0.8630\n",
            "Epoch 33/100\n",
            "32/32 [==============================] - 1s 36ms/step - loss: 0.1743 - accuracy: 0.9257 - val_loss: 0.3330 - val_accuracy: 0.8950\n",
            "Epoch 34/100\n",
            "32/32 [==============================] - 1s 36ms/step - loss: 0.1660 - accuracy: 0.9134 - val_loss: 0.5725 - val_accuracy: 0.8265\n",
            "Epoch 35/100\n",
            "32/32 [==============================] - 1s 38ms/step - loss: 0.2522 - accuracy: 0.9013 - val_loss: 0.3279 - val_accuracy: 0.8493\n",
            "Epoch 36/100\n",
            "32/32 [==============================] - 1s 36ms/step - loss: 0.1848 - accuracy: 0.9261 - val_loss: 0.3191 - val_accuracy: 0.8995\n",
            "Epoch 37/100\n",
            "32/32 [==============================] - 1s 36ms/step - loss: 0.1797 - accuracy: 0.9131 - val_loss: 0.3317 - val_accuracy: 0.8950\n",
            "Epoch 38/100\n",
            "32/32 [==============================] - 1s 37ms/step - loss: 0.1817 - accuracy: 0.9242 - val_loss: 0.3727 - val_accuracy: 0.9041\n",
            "Epoch 39/100\n",
            "32/32 [==============================] - 1s 37ms/step - loss: 0.1449 - accuracy: 0.9327 - val_loss: 0.4053 - val_accuracy: 0.8447\n",
            "Epoch 40/100\n",
            "32/32 [==============================] - 1s 38ms/step - loss: 0.1391 - accuracy: 0.9372 - val_loss: 0.4171 - val_accuracy: 0.8813\n",
            "Epoch 41/100\n",
            "32/32 [==============================] - 1s 37ms/step - loss: 0.1705 - accuracy: 0.9127 - val_loss: 0.3827 - val_accuracy: 0.8995\n",
            "Epoch 42/100\n",
            "32/32 [==============================] - 1s 37ms/step - loss: 0.1420 - accuracy: 0.9333 - val_loss: 0.4280 - val_accuracy: 0.8904\n",
            "Epoch 43/100\n",
            "32/32 [==============================] - 1s 37ms/step - loss: 0.1684 - accuracy: 0.9383 - val_loss: 0.4086 - val_accuracy: 0.8950\n",
            "Epoch 44/100\n",
            "32/32 [==============================] - 1s 37ms/step - loss: 0.1530 - accuracy: 0.9375 - val_loss: 0.3511 - val_accuracy: 0.8904\n",
            "Epoch 45/100\n",
            "32/32 [==============================] - 1s 37ms/step - loss: 0.1444 - accuracy: 0.9410 - val_loss: 0.4099 - val_accuracy: 0.8858\n",
            "Epoch 46/100\n",
            "32/32 [==============================] - 1s 37ms/step - loss: 0.1452 - accuracy: 0.9438 - val_loss: 0.4378 - val_accuracy: 0.8721\n",
            "Epoch 47/100\n",
            "32/32 [==============================] - 1s 37ms/step - loss: 0.1970 - accuracy: 0.9009 - val_loss: 0.4829 - val_accuracy: 0.8082\n",
            "Epoch 48/100\n",
            "32/32 [==============================] - 1s 38ms/step - loss: 0.1331 - accuracy: 0.9444 - val_loss: 0.4019 - val_accuracy: 0.8858\n",
            "Epoch 49/100\n",
            "32/32 [==============================] - 1s 38ms/step - loss: 0.1408 - accuracy: 0.9540 - val_loss: 0.4621 - val_accuracy: 0.8904\n",
            "Epoch 50/100\n",
            "32/32 [==============================] - 1s 38ms/step - loss: 0.3122 - accuracy: 0.8772 - val_loss: 0.3738 - val_accuracy: 0.8721\n",
            "Epoch 51/100\n",
            "32/32 [==============================] - 1s 38ms/step - loss: 0.1789 - accuracy: 0.9272 - val_loss: 0.4427 - val_accuracy: 0.8402\n",
            "Epoch 52/100\n",
            "32/32 [==============================] - 1s 38ms/step - loss: 0.1605 - accuracy: 0.9303 - val_loss: 0.3880 - val_accuracy: 0.8858\n",
            "Epoch 53/100\n",
            "32/32 [==============================] - 1s 38ms/step - loss: 0.1486 - accuracy: 0.9417 - val_loss: 0.4393 - val_accuracy: 0.8813\n",
            "Epoch 54/100\n",
            "32/32 [==============================] - 1s 38ms/step - loss: 0.1400 - accuracy: 0.9378 - val_loss: 0.3783 - val_accuracy: 0.9132\n",
            "Epoch 55/100\n",
            "32/32 [==============================] - 1s 38ms/step - loss: 0.1735 - accuracy: 0.9253 - val_loss: 0.4260 - val_accuracy: 0.8630\n",
            "Epoch 56/100\n",
            "32/32 [==============================] - 1s 37ms/step - loss: 0.1819 - accuracy: 0.9191 - val_loss: 0.4270 - val_accuracy: 0.8904\n",
            "Epoch 57/100\n",
            "32/32 [==============================] - 1s 39ms/step - loss: 0.1661 - accuracy: 0.9288 - val_loss: 0.5053 - val_accuracy: 0.8950\n",
            "Epoch 58/100\n",
            "32/32 [==============================] - 1s 39ms/step - loss: 0.1486 - accuracy: 0.9344 - val_loss: 0.5154 - val_accuracy: 0.8858\n",
            "Epoch 59/100\n",
            "32/32 [==============================] - 1s 37ms/step - loss: 0.1409 - accuracy: 0.9475 - val_loss: 0.4703 - val_accuracy: 0.9041\n",
            "Epoch 60/100\n",
            "32/32 [==============================] - 1s 39ms/step - loss: 0.1460 - accuracy: 0.9356 - val_loss: 0.3992 - val_accuracy: 0.8858\n",
            "Epoch 61/100\n",
            "32/32 [==============================] - 1s 38ms/step - loss: 0.1901 - accuracy: 0.9219 - val_loss: 0.3941 - val_accuracy: 0.8858\n",
            "Epoch 62/100\n",
            "32/32 [==============================] - 1s 39ms/step - loss: 0.1346 - accuracy: 0.9486 - val_loss: 0.4295 - val_accuracy: 0.8904\n",
            "Epoch 63/100\n",
            "32/32 [==============================] - 1s 39ms/step - loss: 0.1562 - accuracy: 0.9307 - val_loss: 0.5055 - val_accuracy: 0.8950\n",
            "Epoch 64/100\n",
            "32/32 [==============================] - 1s 37ms/step - loss: 0.1325 - accuracy: 0.9380 - val_loss: 0.5210 - val_accuracy: 0.8995\n",
            "Epoch 65/100\n",
            "32/32 [==============================] - 1s 37ms/step - loss: 0.1316 - accuracy: 0.9376 - val_loss: 0.6644 - val_accuracy: 0.8630\n",
            "Epoch 66/100\n",
            "32/32 [==============================] - 1s 38ms/step - loss: 0.1294 - accuracy: 0.9420 - val_loss: 0.7214 - val_accuracy: 0.8539\n",
            "Epoch 67/100\n",
            "32/32 [==============================] - 1s 37ms/step - loss: 0.1331 - accuracy: 0.9385 - val_loss: 0.6014 - val_accuracy: 0.8813\n",
            "Epoch 68/100\n",
            "32/32 [==============================] - 1s 38ms/step - loss: 0.1457 - accuracy: 0.9381 - val_loss: 0.4782 - val_accuracy: 0.9041\n",
            "Epoch 69/100\n",
            "32/32 [==============================] - 1s 38ms/step - loss: 0.1857 - accuracy: 0.9185 - val_loss: 0.5808 - val_accuracy: 0.8813\n",
            "Epoch 70/100\n",
            "32/32 [==============================] - 1s 37ms/step - loss: 0.1357 - accuracy: 0.9368 - val_loss: 0.6350 - val_accuracy: 0.8858\n",
            "Epoch 71/100\n",
            "32/32 [==============================] - 1s 38ms/step - loss: 0.1413 - accuracy: 0.9379 - val_loss: 0.5462 - val_accuracy: 0.8402\n",
            "Epoch 72/100\n",
            "32/32 [==============================] - 1s 36ms/step - loss: 0.2760 - accuracy: 0.8787 - val_loss: 0.3730 - val_accuracy: 0.8995\n",
            "Epoch 73/100\n",
            "32/32 [==============================] - 1s 37ms/step - loss: 0.1525 - accuracy: 0.9434 - val_loss: 0.4266 - val_accuracy: 0.8904\n",
            "Epoch 74/100\n",
            "32/32 [==============================] - 1s 37ms/step - loss: 0.1386 - accuracy: 0.9377 - val_loss: 0.4482 - val_accuracy: 0.8995\n",
            "Epoch 75/100\n",
            "32/32 [==============================] - 1s 38ms/step - loss: 0.1341 - accuracy: 0.9378 - val_loss: 0.4702 - val_accuracy: 0.8904\n",
            "Epoch 76/100\n",
            "32/32 [==============================] - 1s 37ms/step - loss: 0.1342 - accuracy: 0.9346 - val_loss: 0.5644 - val_accuracy: 0.8447\n",
            "Epoch 77/100\n",
            "32/32 [==============================] - 1s 37ms/step - loss: 0.1276 - accuracy: 0.9352 - val_loss: 0.5297 - val_accuracy: 0.8813\n",
            "Epoch 78/100\n",
            "32/32 [==============================] - 1s 37ms/step - loss: 0.1202 - accuracy: 0.9563 - val_loss: 0.5901 - val_accuracy: 0.8950\n",
            "Epoch 79/100\n",
            "32/32 [==============================] - 1s 38ms/step - loss: 0.1328 - accuracy: 0.9444 - val_loss: 0.6036 - val_accuracy: 0.8767\n",
            "Epoch 80/100\n",
            "32/32 [==============================] - 1s 37ms/step - loss: 0.1157 - accuracy: 0.9439 - val_loss: 0.6202 - val_accuracy: 0.8721\n",
            "Epoch 81/100\n",
            "32/32 [==============================] - 1s 38ms/step - loss: 0.1330 - accuracy: 0.9416 - val_loss: 0.5856 - val_accuracy: 0.8904\n",
            "Epoch 82/100\n",
            "32/32 [==============================] - 1s 38ms/step - loss: 0.1612 - accuracy: 0.9337 - val_loss: 0.6882 - val_accuracy: 0.8813\n",
            "Epoch 83/100\n",
            "32/32 [==============================] - 1s 39ms/step - loss: 0.1810 - accuracy: 0.9087 - val_loss: 0.5327 - val_accuracy: 0.8721\n",
            "Epoch 84/100\n",
            "32/32 [==============================] - 1s 38ms/step - loss: 0.1248 - accuracy: 0.9422 - val_loss: 0.5927 - val_accuracy: 0.8904\n",
            "Epoch 85/100\n",
            "32/32 [==============================] - 1s 38ms/step - loss: 0.1053 - accuracy: 0.9540 - val_loss: 0.5307 - val_accuracy: 0.9087\n",
            "Epoch 86/100\n",
            "32/32 [==============================] - 1s 38ms/step - loss: 0.1074 - accuracy: 0.9615 - val_loss: 0.6008 - val_accuracy: 0.8995\n",
            "Epoch 87/100\n",
            "32/32 [==============================] - 1s 37ms/step - loss: 0.1305 - accuracy: 0.9432 - val_loss: 0.6624 - val_accuracy: 0.8858\n",
            "Epoch 88/100\n",
            "32/32 [==============================] - 1s 39ms/step - loss: 0.1088 - accuracy: 0.9543 - val_loss: 0.7314 - val_accuracy: 0.8676\n",
            "Epoch 89/100\n",
            "32/32 [==============================] - 1s 38ms/step - loss: 0.1114 - accuracy: 0.9526 - val_loss: 0.6809 - val_accuracy: 0.8630\n",
            "Epoch 90/100\n",
            "32/32 [==============================] - 1s 38ms/step - loss: 0.1183 - accuracy: 0.9463 - val_loss: 0.6105 - val_accuracy: 0.8950\n",
            "Epoch 91/100\n",
            "32/32 [==============================] - 1s 39ms/step - loss: 0.1108 - accuracy: 0.9551 - val_loss: 0.5972 - val_accuracy: 0.8904\n",
            "Epoch 92/100\n",
            "32/32 [==============================] - 1s 38ms/step - loss: 0.1164 - accuracy: 0.9463 - val_loss: 0.7130 - val_accuracy: 0.8265\n",
            "Epoch 93/100\n",
            "32/32 [==============================] - 1s 37ms/step - loss: 0.1416 - accuracy: 0.9235 - val_loss: 0.7241 - val_accuracy: 0.8767\n",
            "Epoch 94/100\n",
            "32/32 [==============================] - 1s 38ms/step - loss: 0.1562 - accuracy: 0.9321 - val_loss: 0.6409 - val_accuracy: 0.8858\n",
            "Epoch 95/100\n",
            "32/32 [==============================] - 1s 38ms/step - loss: 0.1074 - accuracy: 0.9467 - val_loss: 0.6565 - val_accuracy: 0.8813\n",
            "Epoch 96/100\n",
            "32/32 [==============================] - 1s 37ms/step - loss: 0.0939 - accuracy: 0.9579 - val_loss: 0.7123 - val_accuracy: 0.8584\n",
            "Epoch 97/100\n",
            "32/32 [==============================] - 1s 37ms/step - loss: 0.1241 - accuracy: 0.9474 - val_loss: 0.6727 - val_accuracy: 0.8950\n",
            "Epoch 98/100\n",
            "32/32 [==============================] - 1s 37ms/step - loss: 0.1111 - accuracy: 0.9523 - val_loss: 0.7879 - val_accuracy: 0.8767\n",
            "Epoch 99/100\n",
            "32/32 [==============================] - 1s 38ms/step - loss: 0.1512 - accuracy: 0.9312 - val_loss: 0.5426 - val_accuracy: 0.8904\n",
            "Epoch 100/100\n",
            "32/32 [==============================] - 1s 38ms/step - loss: 0.1202 - accuracy: 0.9460 - val_loss: 0.5901 - val_accuracy: 0.8676\n"
          ],
          "name": "stdout"
        }
      ]
    },
    {
      "cell_type": "code",
      "metadata": {
        "colab": {
          "base_uri": "https://localhost:8080/",
          "height": 295
        },
        "id": "9GR8aIwjIegw",
        "outputId": "6a9d38dc-b7a4-436f-da52-b10072c76aa6"
      },
      "source": [
        "plt.plot(hist_2.history['loss'])\n",
        "plt.plot(hist_2.history['val_loss'])\n",
        "plt.title('Model loss')\n",
        "plt.ylabel('Loss')\n",
        "plt.xlabel('Epoch')\n",
        "plt.legend(['Train', 'Val'], loc='upper right')\n",
        "plt.show()"
      ],
      "execution_count": 39,
      "outputs": [
        {
          "output_type": "display_data",
          "data": {
            "image/png": "[encoded data removed]",
            "text/plain": [
              "<Figure size 432x288 with 1 Axes>"
            ]
          },
          "metadata": {
            "tags": [],
            "needs_background": "light"
          }
        }
      ]
    },
    {
      "cell_type": "code",
      "metadata": {
        "colab": {
          "base_uri": "https://localhost:8080/",
          "height": 295
        },
        "id": "lux5IkxxJGCe",
        "outputId": "930caea3-68f8-4558-a9c1-62e85c8685e2"
      },
      "source": [
        "plt.plot(hist_2.history['accuracy'])\n",
        "plt.plot(hist_2.history['val_accuracy'])\n",
        "plt.title('Model accuracy')\n",
        "plt.ylabel('Accuracy')\n",
        "plt.xlabel('Epoch')\n",
        "plt.legend(['Train', 'Val'], loc='upper right')\n",
        "plt.show()"
      ],
      "execution_count": 40,
      "outputs": [
        {
          "output_type": "display_data",
          "data": {
            "image/png": "[encoded data removed]",
            "text/plain": [
              "<Figure size 432x288 with 1 Axes>"
            ]
          },
          "metadata": {
            "tags": [],
            "needs_background": "light"
          }
        }
      ]
    },
    {
      "cell_type": "markdown",
      "metadata": {
        "id": "YQTja8z3Jifo"
      },
      "source": [
        "Some strategies to reduce overfitting are to incorporate L2 regularization and increase droupout rate"
      ]
    },
    {
      "cell_type": "code",
      "metadata": {
        "id": "SEfq3TeJJrK6"
      },
      "source": [
        "from keras.layers import Dropout\n",
        "from keras import regularizers"
      ],
      "execution_count": null,
      "outputs": []
    },
    {
      "cell_type": "code",
      "metadata": {
        "id": "BvI5SY8zJyCk"
      },
      "source": [
        "#make a 3rd model\n",
        "\n",
        "model_3 = Sequential([\n",
        "                      Dense(1000, activation='relu', kernel_regularizer=regularizers.l2(0.01, input_shape = (10,)), \n",
        "                      Dropout(0.3),\n",
        "                      Dense(1000, activation='relu', kernel_regularizer=regularizers.l2(0.01)),\n",
        "                      Dropout(0.3),\n",
        "                      Dense(1000, activation='relu', kernel_regularizer=regularizers.l2(0.01)), \n",
        "                      Dropout(0.3),\n",
        "                      Dense(1000, activation='relu', kernel_regularizer=regularizers.l2(0.01)), \n",
        "                      Dropout(0.3),\n",
        "                      Dense(1, activation='sigmoid', kernel_regularizer=regularizers.l2(0.01)),\n",
        "])"
      ],
      "execution_count": null,
      "outputs": []
    },
    {
      "cell_type": "markdown",
      "metadata": {
        "id": "blSyEg-fLwXx"
      },
      "source": [
        "Differences between Model 3 and Model 2: \n",
        "- To add L2 regularizations, we add this bit of code: kernel_regularizer=regularizers.l2(0.01), \n",
        "\n",
        "which tells Keras to incluce the squared values of thos parameters in our overall loss function, and weight them by 0.01 in the loss function\n",
        "\n",
        "- To add Dropout, add a new layer like: \n",
        "Dropout(0.3),\n",
        "\n",
        "which means that neurons in the previous layer have a probability of 0.3 in dropping out during trining "
      ]
    },
    {
      "cell_type": "code",
      "metadata": {
        "id": "3I4UcuV2MN3R"
      },
      "source": [
        "#let's compile the third model and run it with the same parameters as Model 2 (the overfitting one)\n",
        "model_3.compile(optimizer='adam',\n",
        "                loss='binary_crossentropy',\n",
        "                metrics=['accuracy'])"
      ],
      "execution_count": null,
      "outputs": []
    },
    {
      "cell_type": "code",
      "metadata": {
        "id": "dDfbrD37NKCL"
      },
      "source": [
        "hist_3 = model_3.fit(X_train, Y_train,\n",
        "                     batch_size=32, epochs=100,\n",
        "                     validation_data=(X_val, Y_val))"
      ],
      "execution_count": null,
      "outputs": []
    },
    {
      "cell_type": "code",
      "metadata": {
        "id": "0ZO0-3YANUwn"
      },
      "source": [
        "#plotting the loss and accuracy graphs\n",
        "plt.plot(hist_3.history['loss'])\n",
        "plt.plot(hist_3.history['val_loss'])\n",
        "plt.title('Model loss')\n",
        "plt.ylabel('Loss')\n",
        "plt.xlabel('Epoch')\n",
        "plt.legend(['Train', 'Val'], loc='upper right')\n",
        "plt.ylim(top=1.2, bottom=0)\n",
        "plt.show()"
      ],
      "execution_count": null,
      "outputs": []
    },
    {
      "cell_type": "code",
      "metadata": {
        "id": "RTarruWnOHGg"
      },
      "source": [
        "plt.plot(hist_3.history['accuracy'])\n",
        "plt.plot(hist_3.history['val_accuracy'])\n",
        "plt.title('Model accuracy')\n",
        "plt.ylabel('Accuracy')\n",
        "plt.xlabel('Epoch')\n",
        "plt.legend(['Train', 'Val'], loc='lower right')\n",
        "plt.show"
      ],
      "execution_count": null,
      "outputs": []
    }
  ]
}