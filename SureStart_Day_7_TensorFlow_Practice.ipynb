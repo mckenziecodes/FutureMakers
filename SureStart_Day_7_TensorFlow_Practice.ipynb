{
  "nbformat": 4,
  "nbformat_minor": 0,
  "metadata": {
    "colab": {
      "name": "SureStart Day 7 - TensorFlow Practice",
      "provenance": []
    },
    "kernelspec": {
      "name": "python3",
      "display_name": "Python 3"
    },
    "language_info": {
      "name": "python"
    }
  },
  "cells": [
    {
      "cell_type": "code",
      "metadata": {
        "colab": {
          "base_uri": "https://localhost:8080/"
        },
        "id": "9jvVeDyHzObu",
        "outputId": "e014e20b-5058-47d9-c8d0-96152b086f68"
      },
      "source": [
        "# import tensorflow\n",
        "import tensorflow as tf\n",
        "\n",
        "#initialize 2 constants\n",
        "x1 = tf.constant([1,2,3,4])\n",
        "x2 = tf.constant([5,6,7,8])\n",
        "\n",
        "#multiply\n",
        "result = tf.multiply(x1,x2)\n",
        "\n",
        "#Initialize the Session\n",
        "with tf.compat.v1.Session() as sess:\n",
        "  output = (sess.run(result))\n",
        "  print (output) "
      ],
      "execution_count": null,
      "outputs": [
        {
          "output_type": "stream",
          "text": [
            "[ 5 12 21 32]\n"
          ],
          "name": "stdout"
        }
      ]
    },
    {
      "cell_type": "code",
      "metadata": {
        "colab": {
          "base_uri": "https://localhost:8080/"
        },
        "id": "VW2-H7Ym6XXP",
        "outputId": "b09a554c-188e-4512-cd3f-6d7ff7e759d9"
      },
      "source": [
        "import os\n",
        "def load_data(data_directory):\n",
        "  directories = [d for d in os.listdir(data_directory)\n",
        "  if os.path.isdir(os.path.join(data_directory, d))]\n",
        "  labels = []\n",
        "  images = []\n",
        "  for d in directories: \n",
        "    label_directory = os.path.join(data_directory, d)\n",
        "    file_names = [os.path.join(label_directory, f)\n",
        "    for f in os.listdir(label_directory)\n",
        "    if f.endswith(\".ppm\")]\n",
        "\n",
        "    for f in file_names:\n",
        "      images.append(skimage.data.imread(f))\n",
        "      labels.append(int(d))\n",
        "  return images, labels\n",
        "ROOT_PATH = \"/your/root/path\"\n",
        "train_data_directory = os.path.join(ROOT_PATH, \"TrafficSigns/Training\")\n",
        "test_data_directory = os.path.join(ROOT_PATH, \"TrafficSigns/Testing\")\n",
        "\n",
        "images, labels = load_data(train_data_directory)\n",
        "\n",
        "\n"
      ],
      "execution_count": null,
      "outputs": [
        {
          "output_type": "error",
          "ename": "FileNotFoundError",
          "evalue": "ignored",
          "traceback": [
            "\u001b[0;31m---------------------------------------------------------------------------\u001b[0m",
            "\u001b[0;31mFileNotFoundError\u001b[0m                         Traceback (most recent call last)",
            "\u001b[0;32m<ipython-input-27-01110f41b735>\u001b[0m in \u001b[0;36m<module>\u001b[0;34m()\u001b[0m\n\u001b[1;32m     19\u001b[0m \u001b[0mtest_data_directory\u001b[0m \u001b[0;34m=\u001b[0m \u001b[0mos\u001b[0m\u001b[0;34m.\u001b[0m\u001b[0mpath\u001b[0m\u001b[0;34m.\u001b[0m\u001b[0mjoin\u001b[0m\u001b[0;34m(\u001b[0m\u001b[0mROOT_PATH\u001b[0m\u001b[0;34m,\u001b[0m \u001b[0;34m\"TrafficSigns/Testing\"\u001b[0m\u001b[0;34m)\u001b[0m\u001b[0;34m\u001b[0m\u001b[0;34m\u001b[0m\u001b[0m\n\u001b[1;32m     20\u001b[0m \u001b[0;34m\u001b[0m\u001b[0m\n\u001b[0;32m---> 21\u001b[0;31m \u001b[0mimages\u001b[0m\u001b[0;34m,\u001b[0m \u001b[0mlabels\u001b[0m \u001b[0;34m=\u001b[0m \u001b[0mload_data\u001b[0m\u001b[0;34m(\u001b[0m\u001b[0mtrain_data_directory\u001b[0m\u001b[0;34m)\u001b[0m\u001b[0;34m\u001b[0m\u001b[0;34m\u001b[0m\u001b[0m\n\u001b[0m\u001b[1;32m     22\u001b[0m \u001b[0;34m\u001b[0m\u001b[0m\n\u001b[1;32m     23\u001b[0m \u001b[0;34m\u001b[0m\u001b[0m\n",
            "\u001b[0;32m<ipython-input-27-01110f41b735>\u001b[0m in \u001b[0;36mload_data\u001b[0;34m(data_directory)\u001b[0m\n\u001b[1;32m      1\u001b[0m \u001b[0;32mimport\u001b[0m \u001b[0mos\u001b[0m\u001b[0;34m\u001b[0m\u001b[0;34m\u001b[0m\u001b[0m\n\u001b[1;32m      2\u001b[0m \u001b[0;32mdef\u001b[0m \u001b[0mload_data\u001b[0m\u001b[0;34m(\u001b[0m\u001b[0mdata_directory\u001b[0m\u001b[0;34m)\u001b[0m\u001b[0;34m:\u001b[0m\u001b[0;34m\u001b[0m\u001b[0;34m\u001b[0m\u001b[0m\n\u001b[0;32m----> 3\u001b[0;31m   directories = [d for d in os.listdir(data_directory)\n\u001b[0m\u001b[1;32m      4\u001b[0m   if os.path.isdir(os.path.join(data_directory, d))]\n\u001b[1;32m      5\u001b[0m   \u001b[0mlabels\u001b[0m \u001b[0;34m=\u001b[0m \u001b[0;34m[\u001b[0m\u001b[0;34m]\u001b[0m\u001b[0;34m\u001b[0m\u001b[0;34m\u001b[0m\u001b[0m\n",
            "\u001b[0;31mFileNotFoundError\u001b[0m: [Errno 2] No such file or directory: '/your/root/path/TrafficSigns/Training'"
          ]
        }
      ]
    },
    {
      "cell_type": "code",
      "metadata": {
        "id": "gpmqAJy-z_mk"
      },
      "source": [
        ""
      ],
      "execution_count": null,
      "outputs": []
    }
  ]
}