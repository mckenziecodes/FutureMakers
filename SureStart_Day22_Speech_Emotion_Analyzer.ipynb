{
  "nbformat": 4,
  "nbformat_minor": 0,
  "metadata": {
    "colab": {
      "name": "SureStart Day22 - Speech Emotion Analyzer.ipynb",
      "provenance": []
    },
    "kernelspec": {
      "name": "python3",
      "display_name": "Python 3"
    },
    "language_info": {
      "name": "python"
    },
    "accelerator": "GPU"
  },
  "cells": [
    {
      "cell_type": "code",
      "metadata": {
        "id": "0FAZSMCMTzFv"
      },
      "source": [
        "import librosa\n",
        "import librosa.display\n",
        "import numpy as np\n",
        "import matplotlib.pyplot as plt\n",
        "import tensorflow as tf\n",
        "from matplotlib.pyplot import specgram\n",
        "import keras\n",
        "from keras.preprocessing import sequence\n",
        "from keras.models import Sequential\n",
        "from keras.layers import Dense, Embedding\n",
        "from keras.layers import LSTM\n",
        "from keras.preprocessing.text import Tokenizer\n",
        "from keras.preprocessing.sequence import pad_sequences\n",
        "from tensorflow.keras.utils import to_categorical\n",
        "from keras.layers import Input, Flatten, Dropout, Activation\n",
        "from keras.layers import Conv1D, MaxPooling1D, AveragePooling1D\n",
        "from keras.models import Model\n",
        "from keras.callbacks import ModelCheckpoint\n",
        "from sklearn.metrics import confusion_matrix\n",
        "from sklearn.preprocessing import LabelEncoder"
      ],
      "execution_count": 1,
      "outputs": []
    },
    {
      "cell_type": "code",
      "metadata": {
        "id": "wHrIzNjAUUlN"
      },
      "source": [
        "from keras import regularizers"
      ],
      "execution_count": 2,
      "outputs": []
    },
    {
      "cell_type": "code",
      "metadata": {
        "id": "emWDUtO2Xcse"
      },
      "source": [
        "lb = LabelEncoder()"
      ],
      "execution_count": 3,
      "outputs": []
    },
    {
      "cell_type": "code",
      "metadata": {
        "id": "dea1wT0QUXmd"
      },
      "source": [
        "model = Sequential()\n",
        "\n",
        "model.add(Conv1D(256, 5,padding='same',\n",
        "                 input_shape=(216,1)))\n",
        "model.add(Activation('relu'))\n",
        "model.add(Conv1D(128, 5,padding='same'))\n",
        "model.add(Activation('relu'))\n",
        "model.add(Dropout(0.1))\n",
        "model.add(MaxPooling1D(pool_size=(8)))\n",
        "model.add(Conv1D(128, 5,padding='same',))\n",
        "model.add(Activation('relu'))\n",
        "#model.add(Conv1D(128, 5,padding='same',))\n",
        "#model.add(Activation('relu'))\n",
        "#model.add(Conv1D(128, 5,padding='same',))\n",
        "#model.add(Activation('relu'))\n",
        "#model.add(Dropout(0.2))\n",
        "model.add(Conv1D(128, 5,padding='same',))\n",
        "model.add(Activation('relu'))\n",
        "model.add(Flatten())\n",
        "model.add(Dense(10))\n",
        "model.add(Activation('softmax'))\n",
        "opt = keras.optimizers.RMSprop(learning_rate=0.00001, decay=1e-6)"
      ],
      "execution_count": 4,
      "outputs": []
    },
    {
      "cell_type": "code",
      "metadata": {
        "id": "Lk4Wn6BPVDXF"
      },
      "source": [
        "# loading json and creating model\n",
        "from keras.models import model_from_json\n",
        "json_file = open('model.json', 'r')\n",
        "loaded_model_json = json_file.read()\n",
        "json_file.close()\n",
        "loaded_model = model_from_json(loaded_model_json)\n",
        "\n",
        "# load weights into new model\n",
        "loaded_model.load_weights(\"/content/Emotion_Voice_Detection_Model.h5\")\n",
        "print(\"Loaded model from disk\")\n",
        " \n",
        "# evaluate loaded model on test data\n",
        "loaded_model.compile(loss='categorical_crossentropy', optimizer=opt, metrics=['accuracy'])\n",
        "#score = loaded_model.evaluate(x_testcnn, y_test, verbose=0)\n",
        "#print(\"%s: %.2f%%\" % (loaded_model.metrics_names[1], score[1]*100))"
      ],
      "execution_count": null,
      "outputs": []
    },
    {
      "cell_type": "code",
      "metadata": {
        "id": "0LeG5RFDWTAN"
      },
      "source": [
        "data, sampling_rate = librosa.load('/content/sample_audio.weba') # WRITE YOUR AUDIO RECORDING FILE PATH HERE"
      ],
      "execution_count": null,
      "outputs": []
    },
    {
      "cell_type": "code",
      "metadata": {
        "id": "LRyX11sYWYqF"
      },
      "source": [
        "% pylab inline\n",
        "import os\n",
        "import pandas as pd\n",
        "import librosa\n",
        "import glob \n",
        "\n",
        "plt.figure(figsize=(15, 5))\n",
        "librosa.display.waveplot(data, sr=sampling_rate)"
      ],
      "execution_count": null,
      "outputs": []
    },
    {
      "cell_type": "code",
      "metadata": {
        "id": "3V5dVxguWaPt"
      },
      "source": [
        "#livedf= pd.DataFrame(columns=['feature'])\n",
        "X, sample_rate = librosa.load('output10.wav', res_type='kaiser_fast',duration=2.5,sr=22050*2,offset=0.5)\n",
        "sample_rate = np.array(sample_rate)\n",
        "mfccs = np.mean(librosa.feature.mfcc(y=X, sr=sample_rate, n_mfcc=13),axis=0)\n",
        "featurelive = mfccs\n",
        "livedf2 = featurelive"
      ],
      "execution_count": null,
      "outputs": []
    },
    {
      "cell_type": "code",
      "metadata": {
        "id": "bpUeOjtkWfFN"
      },
      "source": [
        "livedf2= pd.DataFrame(data=livedf2)\n",
        "livedf2 = livedf2.stack().to_frame().T\n",
        "livedf2"
      ],
      "execution_count": null,
      "outputs": []
    },
    {
      "cell_type": "code",
      "metadata": {
        "id": "CC32T5_cWjVM"
      },
      "source": [
        "twodim= np.expand_dims(livedf2, axis=2)\n",
        "livepreds = loaded_model.predict(twodim, \n",
        "                         batch_size=32, \n",
        "                         verbose=1)\n",
        "livepreds"
      ],
      "execution_count": null,
      "outputs": []
    },
    {
      "cell_type": "code",
      "metadata": {
        "id": "hPcaB65KWn1u"
      },
      "source": [
        "livepreds1=livepreds.argmax(axis=1)\n",
        "liveabc = livepreds1.astype(int).flatten()\n",
        "livepredictions = (lb.inverse_transform((liveabc)))\n",
        "livepredictions"
      ],
      "execution_count": null,
      "outputs": []
    }
  ]
}